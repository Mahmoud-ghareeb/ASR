{
 "cells": [
  {
   "cell_type": "code",
   "execution_count": 1,
   "id": "5170e82b",
   "metadata": {},
   "outputs": [],
   "source": [
    "import pandas as pd\n",
    "pd.set_option('display.max_colwidth', None)\n",
    "\n",
    "from tqdm import tqdm\n",
    "tqdm.pandas(desc='progress bar:')\n",
    "\n",
    "import numpy as np"
   ]
  },
  {
   "cell_type": "code",
   "execution_count": 2,
   "id": "76d2545a",
   "metadata": {},
   "outputs": [],
   "source": [
    "def check_text(s):\n",
    "    for symbol in s:\n",
    "        if symbol not in \"\\\" abcdefghijklmnopqrstuvwxyz'\":\n",
    "            return ('FAIL',symbol)\n",
    "    else:\n",
    "        return 'OK'"
   ]
  },
  {
   "cell_type": "code",
   "execution_count": 3,
   "id": "3f8f4e97",
   "metadata": {},
   "outputs": [],
   "source": [
    "import Levenshtein\n",
    "def calcWer(s1, s2):\n",
    "    s1 = str(s1)\n",
    "    s2 = str(s2)\n",
    "    b = set(s1.split() + s2.split())\n",
    "    word2char = dict(zip(b, range(len(b))))\n",
    "    w1 = [chr(word2char[w]) for w in s1.split()]\n",
    "    w2 = [chr(word2char[w]) for w in s2.split()]\n",
    "    return Levenshtein.distance(''.join(w1), ''.join(w2)) / len(''.join(w2)) "
   ]
  },
  {
   "cell_type": "code",
   "execution_count": 4,
   "id": "0ff646d4",
   "metadata": {},
   "outputs": [
    {
     "name": "stderr",
     "output_type": "stream",
     "text": [
      "<ipython-input-4-52daabeac342>:1: DtypeWarning: Columns (20) have mixed types. Specify dtype option on import or set low_memory=False.\n",
      "  df = pd.read_csv(\"./uz_regular1.csv\")\n"
     ]
    }
   ],
   "source": [
    "df = pd.read_csv(\"./uz_regular1.csv\")"
   ]
  },
  {
   "cell_type": "code",
   "execution_count": 6,
   "id": "c2f165f6",
   "metadata": {},
   "outputs": [
    {
     "name": "stdout",
     "output_type": "stream",
     "text": [
      "<class 'pandas.core.frame.DataFrame'>\n",
      "RangeIndex: 135811 entries, 0 to 135810\n",
      "Data columns (total 32 columns):\n",
      " #   Column                       Non-Null Count   Dtype  \n",
      "---  ------                       --------------   -----  \n",
      " 0   id                           135811 non-null  int64  \n",
      " 1   audio                        135811 non-null  object \n",
      " 2   golden_status                135811 non-null  object \n",
      " 3   status                       135811 non-null  object \n",
      " 4   transcriber                  135811 non-null  object \n",
      " 5   superviser                   135811 non-null  object \n",
      " 6   golden_transcription         1880 non-null    object \n",
      " 7   transcriber_transcription    135809 non-null  object \n",
      " 8   theme                        135811 non-null  object \n",
      " 9   robot_transcription          135493 non-null  object \n",
      " 10  timestamp_create             135811 non-null  int64  \n",
      " 11  timestamp_change             135811 non-null  int64  \n",
      " 12  transcriber_id               135811 non-null  int64  \n",
      " 13  superviser_id                135811 non-null  int64  \n",
      " 14  score_transcriber            135811 non-null  int64  \n",
      " 15  wer                          135811 non-null  int64  \n",
      " 16  pool                         135811 non-null  object \n",
      " 17  sex                          135811 non-null  object \n",
      " 18  speakers                     135811 non-null  int64  \n",
      " 19  language                     135811 non-null  object \n",
      " 20  transcriber_type2            1 non-null       object \n",
      " 21  transcriber_id_type2         1 non-null       float64\n",
      " 22  superviser_type2             0 non-null       float64\n",
      " 23  superviser_id_type2          0 non-null       float64\n",
      " 24  tags                         0 non-null       float64\n",
      " 25  emotion                      0 non-null       float64\n",
      " 26  score_transcriber_type2      0 non-null       float64\n",
      " 27  category_error               0 non-null       float64\n",
      " 28  comments                     0 non-null       float64\n",
      " 29  timestamp_transcribed        135811 non-null  int64  \n",
      " 30  duration                     135811 non-null  float64\n",
      " 31  timestamp_transcribed_type2  135811 non-null  int64  \n",
      "dtypes: float64(9), int64(10), object(13)\n",
      "memory usage: 33.2+ MB\n"
     ]
    }
   ],
   "source": [
    "df.info()"
   ]
  },
  {
   "cell_type": "code",
   "execution_count": 8,
   "id": "e5bc2a6a",
   "metadata": {},
   "outputs": [
    {
     "data": {
      "text/plain": [
       "id                             False\n",
       "audio                          False\n",
       "golden_status                  False\n",
       "status                         False\n",
       "transcriber                    False\n",
       "superviser                     False\n",
       "golden_transcription            True\n",
       "transcriber_transcription       True\n",
       "theme                          False\n",
       "robot_transcription             True\n",
       "timestamp_create               False\n",
       "timestamp_change               False\n",
       "transcriber_id                 False\n",
       "superviser_id                  False\n",
       "score_transcriber              False\n",
       "wer                            False\n",
       "pool                           False\n",
       "sex                            False\n",
       "speakers                       False\n",
       "language                       False\n",
       "transcriber_type2               True\n",
       "transcriber_id_type2            True\n",
       "superviser_type2                True\n",
       "superviser_id_type2             True\n",
       "tags                            True\n",
       "emotion                         True\n",
       "score_transcriber_type2         True\n",
       "category_error                  True\n",
       "comments                        True\n",
       "timestamp_transcribed          False\n",
       "duration                       False\n",
       "timestamp_transcribed_type2    False\n",
       "dtype: bool"
      ]
     },
     "execution_count": 8,
     "metadata": {},
     "output_type": "execute_result"
    }
   ],
   "source": [
    "df.isnull().any()"
   ]
  },
  {
   "cell_type": "code",
   "execution_count": 10,
   "id": "93fdb49b",
   "metadata": {},
   "outputs": [],
   "source": [
    "df = df[df[\"transcriber_transcription\"].notnull()]"
   ]
  },
  {
   "cell_type": "code",
   "execution_count": 28,
   "id": "e40558a6",
   "metadata": {},
   "outputs": [
    {
     "name": "stderr",
     "output_type": "stream",
     "text": [
      "<ipython-input-28-834a3cac85ab>:1: SettingWithCopyWarning: \n",
      "A value is trying to be set on a copy of a slice from a DataFrame.\n",
      "Try using .loc[row_indexer,col_indexer] = value instead\n",
      "\n",
      "See the caveats in the documentation: https://pandas.pydata.org/pandas-docs/stable/user_guide/indexing.html#returning-a-view-versus-a-copy\n",
      "  df[\"transcriber_transcription\"] = df[\"transcriber_transcription\"].str.lower()\n"
     ]
    }
   ],
   "source": [
    "df[\"transcriber_transcription\"] = df[\"transcriber_transcription\"].str.lower()"
   ]
  },
  {
   "cell_type": "code",
   "execution_count": 29,
   "id": "9449d171",
   "metadata": {},
   "outputs": [
    {
     "name": "stderr",
     "output_type": "stream",
     "text": [
      "<ipython-input-29-8ca8003a261e>:1: SettingWithCopyWarning: \n",
      "A value is trying to be set on a copy of a slice from a DataFrame.\n",
      "Try using .loc[row_indexer,col_indexer] = value instead\n",
      "\n",
      "See the caveats in the documentation: https://pandas.pydata.org/pandas-docs/stable/user_guide/indexing.html#returning-a-view-versus-a-copy\n",
      "  df[\"bad\"] = df[\"transcriber_transcription\"].apply(lambda x: check_text(x))\n"
     ]
    }
   ],
   "source": [
    "df[\"bad\"] = df[\"transcriber_transcription\"].apply(lambda x: check_text(x))"
   ]
  },
  {
   "cell_type": "code",
   "execution_count": 30,
   "id": "54adcbb6",
   "metadata": {},
   "outputs": [],
   "source": [
    "ind_drop = df[df[\"bad\"] != \"OK\"].index"
   ]
  },
  {
   "cell_type": "code",
   "execution_count": 31,
   "id": "2398e0f2",
   "metadata": {},
   "outputs": [
    {
     "data": {
      "text/plain": [
       "8545"
      ]
     },
     "execution_count": 31,
     "metadata": {},
     "output_type": "execute_result"
    }
   ],
   "source": [
    "len(ind_drop)"
   ]
  },
  {
   "cell_type": "code",
   "execution_count": 32,
   "id": "989e33f1",
   "metadata": {},
   "outputs": [
    {
     "data": {
      "text/html": [
       "<div>\n",
       "<style scoped>\n",
       "    .dataframe tbody tr th:only-of-type {\n",
       "        vertical-align: middle;\n",
       "    }\n",
       "\n",
       "    .dataframe tbody tr th {\n",
       "        vertical-align: top;\n",
       "    }\n",
       "\n",
       "    .dataframe thead th {\n",
       "        text-align: right;\n",
       "    }\n",
       "</style>\n",
       "<table border=\"1\" class=\"dataframe\">\n",
       "  <thead>\n",
       "    <tr style=\"text-align: right;\">\n",
       "      <th></th>\n",
       "      <th>transcriber_transcription</th>\n",
       "      <th>bad</th>\n",
       "    </tr>\n",
       "  </thead>\n",
       "  <tbody>\n",
       "    <tr>\n",
       "      <th>20</th>\n",
       "      <td>to'laymiz yaqinda ?</td>\n",
       "      <td>(FAIL, ?)</td>\n",
       "    </tr>\n",
       "    <tr>\n",
       "      <th>28</th>\n",
       "      <td>o'ninchi ? keyin</td>\n",
       "      <td>(FAIL, ?)</td>\n",
       "    </tr>\n",
       "    <tr>\n",
       "      <th>36</th>\n",
       "      <td>? da</td>\n",
       "      <td>(FAIL, ?)</td>\n",
       "    </tr>\n",
       "    <tr>\n",
       "      <th>75</th>\n",
       "      <td>? keyin ? to'laymiz</td>\n",
       "      <td>(FAIL, ?)</td>\n",
       "    </tr>\n",
       "    <tr>\n",
       "      <th>111</th>\n",
       "      <td>? to'laymiz</td>\n",
       "      <td>(FAIL, ?)</td>\n",
       "    </tr>\n",
       "    <tr>\n",
       "      <th>...</th>\n",
       "      <td>...</td>\n",
       "      <td>...</td>\n",
       "    </tr>\n",
       "    <tr>\n",
       "      <th>135784</th>\n",
       "      <td>xabarim bor ? eng oxirgi sana o'ninchi sanagacha mana shu oyni o'ni</td>\n",
       "      <td>(FAIL, ?)</td>\n",
       "    </tr>\n",
       "    <tr>\n",
       "      <th>135789</th>\n",
       "      <td>bugun nimamiz zagruzka bo'lsa nasib bo'lsa bugun kechki ili ?</td>\n",
       "      <td>(FAIL, ?)</td>\n",
       "    </tr>\n",
       "    <tr>\n",
       "      <th>135791</th>\n",
       "      <td>? hozir chiqqandan ? qancha qolgan aka bugun to'rt yuz ellik ming tushgan edi shuni ham yechib oldida</td>\n",
       "      <td>(FAIL, ?)</td>\n",
       "    </tr>\n",
       "    <tr>\n",
       "      <th>135797</th>\n",
       "      <td>voy bumi men ? men yo'q edim bu ? sim karta sotib olgan edim men</td>\n",
       "      <td>(FAIL, ?)</td>\n",
       "    </tr>\n",
       "    <tr>\n",
       "      <th>135798</th>\n",
       "      <td>biz kredit olmaganmiz bu nomer boshqa ism familiyada ?</td>\n",
       "      <td>(FAIL, ?)</td>\n",
       "    </tr>\n",
       "  </tbody>\n",
       "</table>\n",
       "<p>8545 rows × 2 columns</p>\n",
       "</div>"
      ],
      "text/plain": [
       "                                                                                    transcriber_transcription   \n",
       "20                                                                                        to'laymiz yaqinda ?  \\\n",
       "28                                                                                           o'ninchi ? keyin   \n",
       "36                                                                                                       ? da   \n",
       "75                                                                                        ? keyin ? to'laymiz   \n",
       "111                                                                                               ? to'laymiz   \n",
       "...                                                                                                       ...   \n",
       "135784                                    xabarim bor ? eng oxirgi sana o'ninchi sanagacha mana shu oyni o'ni   \n",
       "135789                                          bugun nimamiz zagruzka bo'lsa nasib bo'lsa bugun kechki ili ?   \n",
       "135791  ? hozir chiqqandan ? qancha qolgan aka bugun to'rt yuz ellik ming tushgan edi shuni ham yechib oldida   \n",
       "135797                                       voy bumi men ? men yo'q edim bu ? sim karta sotib olgan edim men   \n",
       "135798                                                 biz kredit olmaganmiz bu nomer boshqa ism familiyada ?   \n",
       "\n",
       "              bad  \n",
       "20      (FAIL, ?)  \n",
       "28      (FAIL, ?)  \n",
       "36      (FAIL, ?)  \n",
       "75      (FAIL, ?)  \n",
       "111     (FAIL, ?)  \n",
       "...           ...  \n",
       "135784  (FAIL, ?)  \n",
       "135789  (FAIL, ?)  \n",
       "135791  (FAIL, ?)  \n",
       "135797  (FAIL, ?)  \n",
       "135798  (FAIL, ?)  \n",
       "\n",
       "[8545 rows x 2 columns]"
      ]
     },
     "execution_count": 32,
     "metadata": {},
     "output_type": "execute_result"
    }
   ],
   "source": [
    "df[df[\"bad\"] != \"OK\"][[\"transcriber_transcription\", \"bad\"]]"
   ]
  },
  {
   "cell_type": "code",
   "execution_count": 33,
   "id": "83cf1cae",
   "metadata": {},
   "outputs": [
    {
     "data": {
      "text/plain": [
       "bad\n",
       "OK           127264\n",
       "(FAIL, ?)      8543\n",
       "(FAIL, ;)         1\n",
       "(FAIL, -)         1\n",
       "Name: count, dtype: int64"
      ]
     },
     "execution_count": 33,
     "metadata": {},
     "output_type": "execute_result"
    }
   ],
   "source": [
    "df[\"bad\"].value_counts()"
   ]
  },
  {
   "cell_type": "code",
   "execution_count": 34,
   "id": "fe462fae",
   "metadata": {},
   "outputs": [
    {
     "name": "stderr",
     "output_type": "stream",
     "text": [
      "<ipython-input-34-8aeb4d3731c9>:1: SettingWithCopyWarning: \n",
      "A value is trying to be set on a copy of a slice from a DataFrame\n",
      "\n",
      "See the caveats in the documentation: https://pandas.pydata.org/pandas-docs/stable/user_guide/indexing.html#returning-a-view-versus-a-copy\n",
      "  df.drop(ind_drop, inplace=True)\n"
     ]
    }
   ],
   "source": [
    "df.drop(ind_drop, inplace=True)"
   ]
  },
  {
   "cell_type": "code",
   "execution_count": 35,
   "id": "28e0d93a",
   "metadata": {},
   "outputs": [
    {
     "data": {
      "text/plain": [
       "bad\n",
       "OK    127264\n",
       "Name: count, dtype: int64"
      ]
     },
     "execution_count": 35,
     "metadata": {},
     "output_type": "execute_result"
    }
   ],
   "source": [
    "df[\"bad\"].value_counts()"
   ]
  },
  {
   "cell_type": "code",
   "execution_count": 36,
   "id": "5519d591",
   "metadata": {},
   "outputs": [
    {
     "name": "stderr",
     "output_type": "stream",
     "text": [
      "<ipython-input-36-da32e7e22d03>:1: SettingWithCopyWarning: \n",
      "A value is trying to be set on a copy of a slice from a DataFrame.\n",
      "Try using .loc[row_indexer,col_indexer] = value instead\n",
      "\n",
      "See the caveats in the documentation: https://pandas.pydata.org/pandas-docs/stable/user_guide/indexing.html#returning-a-view-versus-a-copy\n",
      "  df[\"language\"] = df[\"language\"].str.lower()\n"
     ]
    }
   ],
   "source": [
    "df[\"language\"] = df[\"language\"].str.lower()"
   ]
  },
  {
   "cell_type": "code",
   "execution_count": 37,
   "id": "d0fea614",
   "metadata": {},
   "outputs": [
    {
     "data": {
      "text/plain": [
       "language\n",
       "uz        110604\n",
       "uzru        9775\n",
       "uzru3       4445\n",
       "ru          2325\n",
       "kar           74\n",
       "uz/kar        37\n",
       "far            4\n",
       "Name: count, dtype: int64"
      ]
     },
     "execution_count": 37,
     "metadata": {},
     "output_type": "execute_result"
    }
   ],
   "source": [
    "df[\"language\"].value_counts()"
   ]
  },
  {
   "cell_type": "code",
   "execution_count": 39,
   "id": "d24768bd",
   "metadata": {},
   "outputs": [
    {
     "data": {
      "text/html": [
       "<div>\n",
       "<style scoped>\n",
       "    .dataframe tbody tr th:only-of-type {\n",
       "        vertical-align: middle;\n",
       "    }\n",
       "\n",
       "    .dataframe tbody tr th {\n",
       "        vertical-align: top;\n",
       "    }\n",
       "\n",
       "    .dataframe thead th {\n",
       "        text-align: right;\n",
       "    }\n",
       "</style>\n",
       "<table border=\"1\" class=\"dataframe\">\n",
       "  <thead>\n",
       "    <tr style=\"text-align: right;\">\n",
       "      <th></th>\n",
       "      <th>transcriber_transcription</th>\n",
       "      <th>language</th>\n",
       "    </tr>\n",
       "  </thead>\n",
       "  <tbody>\n",
       "    <tr>\n",
       "      <th>98</th>\n",
       "      <td>aaa tushmayapti karta shuni kutyapman</td>\n",
       "      <td>uzru</td>\n",
       "    </tr>\n",
       "    <tr>\n",
       "      <th>124</th>\n",
       "      <td>schjot olib tashlayman</td>\n",
       "      <td>uzru</td>\n",
       "    </tr>\n",
       "    <tr>\n",
       "      <th>126</th>\n",
       "      <td>sun'iy intellektmisiz siz</td>\n",
       "      <td>uzru</td>\n",
       "    </tr>\n",
       "    <tr>\n",
       "      <th>316</th>\n",
       "      <td>karta o'zi karta orqali</td>\n",
       "      <td>uzru</td>\n",
       "    </tr>\n",
       "    <tr>\n",
       "      <th>317</th>\n",
       "      <td>a plastik orqalida</td>\n",
       "      <td>uzru</td>\n",
       "    </tr>\n",
       "    <tr>\n",
       "      <th>...</th>\n",
       "      <td>...</td>\n",
       "      <td>...</td>\n",
       "    </tr>\n",
       "    <tr>\n",
       "      <th>135710</th>\n",
       "      <td>o'zi kesib ketmayapti ku plastigimdan</td>\n",
       "      <td>uzru</td>\n",
       "    </tr>\n",
       "    <tr>\n",
       "      <th>135718</th>\n",
       "      <td>to'lashga vaqtim bo'lmadi pulim bor naqd pulda edi plastigimda emas edida plastigimda bo'lganida yechib olar edi ertaga</td>\n",
       "      <td>uzru</td>\n",
       "    </tr>\n",
       "    <tr>\n",
       "      <th>135725</th>\n",
       "      <td>aa anavi sharoit yetishmadi ikkita kredit olgan edim aka unga kechikib ketib qoldida</td>\n",
       "      <td>uzru</td>\n",
       "    </tr>\n",
       "    <tr>\n",
       "      <th>135742</th>\n",
       "      <td>a to'lovni olganmiz plastikdan</td>\n",
       "      <td>uzru</td>\n",
       "    </tr>\n",
       "    <tr>\n",
       "      <th>135807</th>\n",
       "      <td>shu kredit qarzdorligi nima uchun deb so'rayapman qarzdorligimiz yo'qda chunki</td>\n",
       "      <td>uzru</td>\n",
       "    </tr>\n",
       "  </tbody>\n",
       "</table>\n",
       "<p>9775 rows × 2 columns</p>\n",
       "</div>"
      ],
      "text/plain": [
       "                                                                                                      transcriber_transcription   \n",
       "98                                                                                        aaa tushmayapti karta shuni kutyapman  \\\n",
       "124                                                                                                      schjot olib tashlayman   \n",
       "126                                                                                                   sun'iy intellektmisiz siz   \n",
       "316                                                                                                     karta o'zi karta orqali   \n",
       "317                                                                                                          a plastik orqalida   \n",
       "...                                                                                                                         ...   \n",
       "135710                                                                                    o'zi kesib ketmayapti ku plastigimdan   \n",
       "135718  to'lashga vaqtim bo'lmadi pulim bor naqd pulda edi plastigimda emas edida plastigimda bo'lganida yechib olar edi ertaga   \n",
       "135725                                     aa anavi sharoit yetishmadi ikkita kredit olgan edim aka unga kechikib ketib qoldida   \n",
       "135742                                                                                           a to'lovni olganmiz plastikdan   \n",
       "135807                                           shu kredit qarzdorligi nima uchun deb so'rayapman qarzdorligimiz yo'qda chunki   \n",
       "\n",
       "       language  \n",
       "98         uzru  \n",
       "124        uzru  \n",
       "126        uzru  \n",
       "316        uzru  \n",
       "317        uzru  \n",
       "...         ...  \n",
       "135710     uzru  \n",
       "135718     uzru  \n",
       "135725     uzru  \n",
       "135742     uzru  \n",
       "135807     uzru  \n",
       "\n",
       "[9775 rows x 2 columns]"
      ]
     },
     "execution_count": 39,
     "metadata": {},
     "output_type": "execute_result"
    }
   ],
   "source": [
    "df[df[\"language\"] == \"uzru\"][[\"transcriber_transcription\", \"language\"]]"
   ]
  },
  {
   "cell_type": "code",
   "execution_count": 40,
   "id": "cb2669d6",
   "metadata": {},
   "outputs": [
    {
     "name": "stderr",
     "output_type": "stream",
     "text": [
      "<ipython-input-40-86b661327695>:1: SettingWithCopyWarning: \n",
      "A value is trying to be set on a copy of a slice from a DataFrame.\n",
      "Try using .loc[row_indexer,col_indexer] = value instead\n",
      "\n",
      "See the caveats in the documentation: https://pandas.pydata.org/pandas-docs/stable/user_guide/indexing.html#returning-a-view-versus-a-copy\n",
      "  df[\"language\"] = df[\"language\"].str.replace(\"uzru\", \"uz\")\n"
     ]
    }
   ],
   "source": [
    "df[\"language\"] = df[\"language\"].str.replace(\"uzru\", \"uz\")"
   ]
  },
  {
   "cell_type": "code",
   "execution_count": 41,
   "id": "dabe2d5d",
   "metadata": {},
   "outputs": [
    {
     "data": {
      "text/plain": [
       "language\n",
       "uz        120379\n",
       "uz3         4445\n",
       "ru          2325\n",
       "kar           74\n",
       "uz/kar        37\n",
       "far            4\n",
       "Name: count, dtype: int64"
      ]
     },
     "execution_count": 41,
     "metadata": {},
     "output_type": "execute_result"
    }
   ],
   "source": [
    "df[\"language\"].value_counts()"
   ]
  },
  {
   "cell_type": "code",
   "execution_count": 42,
   "id": "fedd0740",
   "metadata": {},
   "outputs": [
    {
     "data": {
      "text/html": [
       "<div>\n",
       "<style scoped>\n",
       "    .dataframe tbody tr th:only-of-type {\n",
       "        vertical-align: middle;\n",
       "    }\n",
       "\n",
       "    .dataframe tbody tr th {\n",
       "        vertical-align: top;\n",
       "    }\n",
       "\n",
       "    .dataframe thead th {\n",
       "        text-align: right;\n",
       "    }\n",
       "</style>\n",
       "<table border=\"1\" class=\"dataframe\">\n",
       "  <thead>\n",
       "    <tr style=\"text-align: right;\">\n",
       "      <th></th>\n",
       "      <th>transcriber_transcription</th>\n",
       "      <th>language</th>\n",
       "    </tr>\n",
       "  </thead>\n",
       "  <tbody>\n",
       "    <tr>\n",
       "      <th>86</th>\n",
       "      <td>to'ladim ku kecha to'ladim ku menga qayerdan kelib qoldi u soobschenija</td>\n",
       "      <td>uz3</td>\n",
       "    </tr>\n",
       "    <tr>\n",
       "      <th>122</th>\n",
       "      <td>bir minut</td>\n",
       "      <td>uz3</td>\n",
       "    </tr>\n",
       "    <tr>\n",
       "      <th>207</th>\n",
       "      <td>nomerimni kim berdi</td>\n",
       "      <td>uz3</td>\n",
       "    </tr>\n",
       "    <tr>\n",
       "      <th>273</th>\n",
       "      <td>men kreditim hali to'lanmaganmi hozir</td>\n",
       "      <td>uz3</td>\n",
       "    </tr>\n",
       "    <tr>\n",
       "      <th>2057</th>\n",
       "      <td>da da assalomu alaykum labbay</td>\n",
       "      <td>uz3</td>\n",
       "    </tr>\n",
       "    <tr>\n",
       "      <th>...</th>\n",
       "      <td>...</td>\n",
       "      <td>...</td>\n",
       "    </tr>\n",
       "    <tr>\n",
       "      <th>135792</th>\n",
       "      <td>ha men nimada ukajon plastigimni yo'qotgan edikda shuni bugun borib plastikni qayta</td>\n",
       "      <td>uz3</td>\n",
       "    </tr>\n",
       "    <tr>\n",
       "      <th>135794</th>\n",
       "      <td>besh o'n beshinchi sanagacha to'laymiz ku bizlar har doim to'lab kelganmiz ku bizlar zavodda o'n uchinchi o'n beshinchi sana kuni oylik tushadi o'sha kuni to'laymiz har doim</td>\n",
       "      <td>uz3</td>\n",
       "    </tr>\n",
       "    <tr>\n",
       "      <th>135802</th>\n",
       "      <td>yo'q aka bu nomerni egasi yo'q men boshqa odam bu nomerni egasiga aytib qo'yaman to'laydi</td>\n",
       "      <td>uz3</td>\n",
       "    </tr>\n",
       "    <tr>\n",
       "      <th>135808</th>\n",
       "      <td>yo'q mana shu haftani oxirigacha oylik tushadida o'zi ulanib turibdi ku plastik srazu qirqib oladi o'zi har oy qirqyapti ku</td>\n",
       "      <td>uz3</td>\n",
       "    </tr>\n",
       "    <tr>\n",
       "      <th>135809</th>\n",
       "      <td>hop hop to'laymiz oylik o'n beshiga tushadi zavodga o'shanga sal kechikib qoldida shu safar tashlab qo'yamiz</td>\n",
       "      <td>uz3</td>\n",
       "    </tr>\n",
       "  </tbody>\n",
       "</table>\n",
       "<p>4445 rows × 2 columns</p>\n",
       "</div>"
      ],
      "text/plain": [
       "                                                                                                                                                            transcriber_transcription   \n",
       "86                                                                                                            to'ladim ku kecha to'ladim ku menga qayerdan kelib qoldi u soobschenija  \\\n",
       "122                                                                                                                                                                         bir minut   \n",
       "207                                                                                                                                                               nomerimni kim berdi   \n",
       "273                                                                                                                                             men kreditim hali to'lanmaganmi hozir   \n",
       "2057                                                                                                                                                    da da assalomu alaykum labbay   \n",
       "...                                                                                                                                                                               ...   \n",
       "135792                                                                                            ha men nimada ukajon plastigimni yo'qotgan edikda shuni bugun borib plastikni qayta   \n",
       "135794  besh o'n beshinchi sanagacha to'laymiz ku bizlar har doim to'lab kelganmiz ku bizlar zavodda o'n uchinchi o'n beshinchi sana kuni oylik tushadi o'sha kuni to'laymiz har doim   \n",
       "135802                                                                                      yo'q aka bu nomerni egasi yo'q men boshqa odam bu nomerni egasiga aytib qo'yaman to'laydi   \n",
       "135808                                                    yo'q mana shu haftani oxirigacha oylik tushadida o'zi ulanib turibdi ku plastik srazu qirqib oladi o'zi har oy qirqyapti ku   \n",
       "135809                                                                   hop hop to'laymiz oylik o'n beshiga tushadi zavodga o'shanga sal kechikib qoldida shu safar tashlab qo'yamiz   \n",
       "\n",
       "       language  \n",
       "86          uz3  \n",
       "122         uz3  \n",
       "207         uz3  \n",
       "273         uz3  \n",
       "2057        uz3  \n",
       "...         ...  \n",
       "135792      uz3  \n",
       "135794      uz3  \n",
       "135802      uz3  \n",
       "135808      uz3  \n",
       "135809      uz3  \n",
       "\n",
       "[4445 rows x 2 columns]"
      ]
     },
     "execution_count": 42,
     "metadata": {},
     "output_type": "execute_result"
    }
   ],
   "source": [
    "df[df[\"language\"] == \"uz3\"][[\"transcriber_transcription\", \"language\"]]"
   ]
  },
  {
   "cell_type": "code",
   "execution_count": 43,
   "id": "6328972b",
   "metadata": {},
   "outputs": [
    {
     "name": "stderr",
     "output_type": "stream",
     "text": [
      "<ipython-input-43-d500bb929803>:1: SettingWithCopyWarning: \n",
      "A value is trying to be set on a copy of a slice from a DataFrame.\n",
      "Try using .loc[row_indexer,col_indexer] = value instead\n",
      "\n",
      "See the caveats in the documentation: https://pandas.pydata.org/pandas-docs/stable/user_guide/indexing.html#returning-a-view-versus-a-copy\n",
      "  df[\"language\"] = df[\"language\"].str.replace(\"uz3\", \"uz\")\n"
     ]
    }
   ],
   "source": [
    "df[\"language\"] = df[\"language\"].str.replace(\"uz3\", \"uz\")"
   ]
  },
  {
   "cell_type": "code",
   "execution_count": 44,
   "id": "ea7486c2",
   "metadata": {},
   "outputs": [
    {
     "data": {
      "text/plain": [
       "language\n",
       "uz        124824\n",
       "ru          2325\n",
       "kar           74\n",
       "uz/kar        37\n",
       "far            4\n",
       "Name: count, dtype: int64"
      ]
     },
     "execution_count": 44,
     "metadata": {},
     "output_type": "execute_result"
    }
   ],
   "source": [
    "df[\"language\"].value_counts()"
   ]
  },
  {
   "cell_type": "code",
   "execution_count": 45,
   "id": "308ed988",
   "metadata": {},
   "outputs": [
    {
     "data": {
      "text/html": [
       "<div>\n",
       "<style scoped>\n",
       "    .dataframe tbody tr th:only-of-type {\n",
       "        vertical-align: middle;\n",
       "    }\n",
       "\n",
       "    .dataframe tbody tr th {\n",
       "        vertical-align: top;\n",
       "    }\n",
       "\n",
       "    .dataframe thead th {\n",
       "        text-align: right;\n",
       "    }\n",
       "</style>\n",
       "<table border=\"1\" class=\"dataframe\">\n",
       "  <thead>\n",
       "    <tr style=\"text-align: right;\">\n",
       "      <th></th>\n",
       "      <th>transcriber_transcription</th>\n",
       "      <th>language</th>\n",
       "    </tr>\n",
       "  </thead>\n",
       "  <tbody>\n",
       "    <tr>\n",
       "      <th>923</th>\n",
       "      <td>ova ova</td>\n",
       "      <td>kar</td>\n",
       "    </tr>\n",
       "    <tr>\n",
       "      <th>1761</th>\n",
       "      <td>ova</td>\n",
       "      <td>kar</td>\n",
       "    </tr>\n",
       "    <tr>\n",
       "      <th>2010</th>\n",
       "      <td>ova ova ova</td>\n",
       "      <td>kar</td>\n",
       "    </tr>\n",
       "    <tr>\n",
       "      <th>2941</th>\n",
       "      <td>ova menman</td>\n",
       "      <td>kar</td>\n",
       "    </tr>\n",
       "    <tr>\n",
       "      <th>3175</th>\n",
       "      <td>ova men</td>\n",
       "      <td>kar</td>\n",
       "    </tr>\n",
       "    <tr>\n",
       "      <th>...</th>\n",
       "      <td>...</td>\n",
       "      <td>...</td>\n",
       "    </tr>\n",
       "    <tr>\n",
       "      <th>117785</th>\n",
       "      <td>yetti o'nidan keyin oylik tushadi yettinchisidami sakkizida oylik tushsa to'lab beraman</td>\n",
       "      <td>kar</td>\n",
       "    </tr>\n",
       "    <tr>\n",
       "      <th>117799</th>\n",
       "      <td>shu o'ni o'nidan keyin oylik tushsin to'layman</td>\n",
       "      <td>kar</td>\n",
       "    </tr>\n",
       "    <tr>\n",
       "      <th>118021</th>\n",
       "      <td>hali oylik tushmadi xudo xohlasa ish hafta tushish extimoli bor</td>\n",
       "      <td>kar</td>\n",
       "    </tr>\n",
       "    <tr>\n",
       "      <th>126239</th>\n",
       "      <td>to'laymiz xudo xohlasa tushsin bolam oylik tushsin o'n olti</td>\n",
       "      <td>kar</td>\n",
       "    </tr>\n",
       "    <tr>\n",
       "      <th>129013</th>\n",
       "      <td>bo'ldi u to'laymiz bo'ldi mana ertaga to'lanadi</td>\n",
       "      <td>kar</td>\n",
       "    </tr>\n",
       "  </tbody>\n",
       "</table>\n",
       "<p>74 rows × 2 columns</p>\n",
       "</div>"
      ],
      "text/plain": [
       "                                                                      transcriber_transcription   \n",
       "923                                                                                     ova ova  \\\n",
       "1761                                                                                        ova   \n",
       "2010                                                                                ova ova ova   \n",
       "2941                                                                                 ova menman   \n",
       "3175                                                                                    ova men   \n",
       "...                                                                                         ...   \n",
       "117785  yetti o'nidan keyin oylik tushadi yettinchisidami sakkizida oylik tushsa to'lab beraman   \n",
       "117799                                           shu o'ni o'nidan keyin oylik tushsin to'layman   \n",
       "118021                          hali oylik tushmadi xudo xohlasa ish hafta tushish extimoli bor   \n",
       "126239                              to'laymiz xudo xohlasa tushsin bolam oylik tushsin o'n olti   \n",
       "129013                                          bo'ldi u to'laymiz bo'ldi mana ertaga to'lanadi   \n",
       "\n",
       "       language  \n",
       "923         kar  \n",
       "1761        kar  \n",
       "2010        kar  \n",
       "2941        kar  \n",
       "3175        kar  \n",
       "...         ...  \n",
       "117785      kar  \n",
       "117799      kar  \n",
       "118021      kar  \n",
       "126239      kar  \n",
       "129013      kar  \n",
       "\n",
       "[74 rows x 2 columns]"
      ]
     },
     "execution_count": 45,
     "metadata": {},
     "output_type": "execute_result"
    }
   ],
   "source": [
    "df[df[\"language\"] == \"kar\"][[\"transcriber_transcription\", \"language\"]]"
   ]
  },
  {
   "cell_type": "code",
   "execution_count": 46,
   "id": "13ec49c8",
   "metadata": {},
   "outputs": [
    {
     "name": "stderr",
     "output_type": "stream",
     "text": [
      "<ipython-input-46-caff73deacfa>:1: SettingWithCopyWarning: \n",
      "A value is trying to be set on a copy of a slice from a DataFrame.\n",
      "Try using .loc[row_indexer,col_indexer] = value instead\n",
      "\n",
      "See the caveats in the documentation: https://pandas.pydata.org/pandas-docs/stable/user_guide/indexing.html#returning-a-view-versus-a-copy\n",
      "  df[\"language\"] = df[\"language\"].str.replace(\"kar\", \"uz\")\n"
     ]
    }
   ],
   "source": [
    "df[\"language\"] = df[\"language\"].str.replace(\"kar\", \"uz\")"
   ]
  },
  {
   "cell_type": "code",
   "execution_count": 47,
   "id": "1008a04c",
   "metadata": {},
   "outputs": [
    {
     "data": {
      "text/html": [
       "<div>\n",
       "<style scoped>\n",
       "    .dataframe tbody tr th:only-of-type {\n",
       "        vertical-align: middle;\n",
       "    }\n",
       "\n",
       "    .dataframe tbody tr th {\n",
       "        vertical-align: top;\n",
       "    }\n",
       "\n",
       "    .dataframe thead th {\n",
       "        text-align: right;\n",
       "    }\n",
       "</style>\n",
       "<table border=\"1\" class=\"dataframe\">\n",
       "  <thead>\n",
       "    <tr style=\"text-align: right;\">\n",
       "      <th></th>\n",
       "      <th>transcriber_transcription</th>\n",
       "      <th>language</th>\n",
       "    </tr>\n",
       "  </thead>\n",
       "  <tbody>\n",
       "    <tr>\n",
       "      <th>9081</th>\n",
       "      <td>har doimday shunday to'laymiz ha to'lab kelgan ku shunday to'lab kelamizda</td>\n",
       "      <td>far</td>\n",
       "    </tr>\n",
       "    <tr>\n",
       "      <th>9757</th>\n",
       "      <td>endi topa olsak to'layman topa olmasak shu o'n beshigacha zoodmall</td>\n",
       "      <td>far</td>\n",
       "    </tr>\n",
       "    <tr>\n",
       "      <th>38793</th>\n",
       "      <td>yo'q shuni o'ninchi chislogacha oylik tushsa to'lash bo'lmaydimi</td>\n",
       "      <td>far</td>\n",
       "    </tr>\n",
       "    <tr>\n",
       "      <th>54319</th>\n",
       "      <td>o'n beshiga dedim o'n beshiga opa o'n beshiga to'laymiz bizlar postojanno</td>\n",
       "      <td>far</td>\n",
       "    </tr>\n",
       "  </tbody>\n",
       "</table>\n",
       "</div>"
      ],
      "text/plain": [
       "                                                        transcriber_transcription   \n",
       "9081   har doimday shunday to'laymiz ha to'lab kelgan ku shunday to'lab kelamizda  \\\n",
       "9757           endi topa olsak to'layman topa olmasak shu o'n beshigacha zoodmall   \n",
       "38793            yo'q shuni o'ninchi chislogacha oylik tushsa to'lash bo'lmaydimi   \n",
       "54319   o'n beshiga dedim o'n beshiga opa o'n beshiga to'laymiz bizlar postojanno   \n",
       "\n",
       "      language  \n",
       "9081       far  \n",
       "9757       far  \n",
       "38793      far  \n",
       "54319      far  "
      ]
     },
     "execution_count": 47,
     "metadata": {},
     "output_type": "execute_result"
    }
   ],
   "source": [
    "df[df[\"language\"] == \"far\"][[\"transcriber_transcription\", \"language\"]]"
   ]
  },
  {
   "cell_type": "code",
   "execution_count": 48,
   "id": "77d948c6",
   "metadata": {},
   "outputs": [
    {
     "name": "stderr",
     "output_type": "stream",
     "text": [
      "<ipython-input-48-b1c8423e0b66>:1: SettingWithCopyWarning: \n",
      "A value is trying to be set on a copy of a slice from a DataFrame.\n",
      "Try using .loc[row_indexer,col_indexer] = value instead\n",
      "\n",
      "See the caveats in the documentation: https://pandas.pydata.org/pandas-docs/stable/user_guide/indexing.html#returning-a-view-versus-a-copy\n",
      "  df[\"language\"] = df[\"language\"].str.replace(\"far\", \"uz\")\n"
     ]
    }
   ],
   "source": [
    "df[\"language\"] = df[\"language\"].str.replace(\"far\", \"uz\")"
   ]
  },
  {
   "cell_type": "code",
   "execution_count": 50,
   "id": "f42bc6ce",
   "metadata": {},
   "outputs": [
    {
     "data": {
      "text/plain": [
       "language\n",
       "uz       124902\n",
       "ru         2325\n",
       "uz/uz        37\n",
       "Name: count, dtype: int64"
      ]
     },
     "execution_count": 50,
     "metadata": {},
     "output_type": "execute_result"
    }
   ],
   "source": [
    "df[\"language\"].value_counts()"
   ]
  },
  {
   "cell_type": "code",
   "execution_count": 51,
   "id": "79f63c6a",
   "metadata": {},
   "outputs": [
    {
     "data": {
      "text/html": [
       "<div>\n",
       "<style scoped>\n",
       "    .dataframe tbody tr th:only-of-type {\n",
       "        vertical-align: middle;\n",
       "    }\n",
       "\n",
       "    .dataframe tbody tr th {\n",
       "        vertical-align: top;\n",
       "    }\n",
       "\n",
       "    .dataframe thead th {\n",
       "        text-align: right;\n",
       "    }\n",
       "</style>\n",
       "<table border=\"1\" class=\"dataframe\">\n",
       "  <thead>\n",
       "    <tr style=\"text-align: right;\">\n",
       "      <th></th>\n",
       "      <th>transcriber_transcription</th>\n",
       "      <th>language</th>\n",
       "    </tr>\n",
       "  </thead>\n",
       "  <tbody>\n",
       "    <tr>\n",
       "      <th>788</th>\n",
       "      <td>ova ova men men</td>\n",
       "      <td>uz/uz</td>\n",
       "    </tr>\n",
       "    <tr>\n",
       "      <th>3201</th>\n",
       "      <td>axtarib ko'ramiz</td>\n",
       "      <td>uz/uz</td>\n",
       "    </tr>\n",
       "    <tr>\n",
       "      <th>4378</th>\n",
       "      <td>ova ova menman</td>\n",
       "      <td>uz/uz</td>\n",
       "    </tr>\n",
       "    <tr>\n",
       "      <th>5125</th>\n",
       "      <td>ova ova to'g'ri</td>\n",
       "      <td>uz/uz</td>\n",
       "    </tr>\n",
       "    <tr>\n",
       "      <th>7634</th>\n",
       "      <td>ova ova qanday kompaniyadan deysan</td>\n",
       "      <td>uz/uz</td>\n",
       "    </tr>\n",
       "    <tr>\n",
       "      <th>10353</th>\n",
       "      <td>kreditda kreditim bor</td>\n",
       "      <td>uz/uz</td>\n",
       "    </tr>\n",
       "    <tr>\n",
       "      <th>11097</th>\n",
       "      <td>ova to'lay olaman</td>\n",
       "      <td>uz/uz</td>\n",
       "    </tr>\n",
       "    <tr>\n",
       "      <th>11807</th>\n",
       "      <td>ha to'layman ova</td>\n",
       "      <td>uz/uz</td>\n",
       "    </tr>\n",
       "    <tr>\n",
       "      <th>14224</th>\n",
       "      <td>ovada</td>\n",
       "      <td>uz/uz</td>\n",
       "    </tr>\n",
       "    <tr>\n",
       "      <th>38617</th>\n",
       "      <td>o men plastikka oylik tushmayapti oylik tushsa aytaman</td>\n",
       "      <td>uz/uz</td>\n",
       "    </tr>\n",
       "    <tr>\n",
       "      <th>39559</th>\n",
       "      <td>yettinchi noyabr kuni</td>\n",
       "      <td>uz/uz</td>\n",
       "    </tr>\n",
       "    <tr>\n",
       "      <th>46330</th>\n",
       "      <td>ova to'layman</td>\n",
       "      <td>uz/uz</td>\n",
       "    </tr>\n",
       "    <tr>\n",
       "      <th>58049</th>\n",
       "      <td>allo assalomu alaykum mening kreditim yo'q hech qanday bu nomerni yaqinda oldimda bo'lmadi meni ozgina bu sim kartani men</td>\n",
       "      <td>uz/uz</td>\n",
       "    </tr>\n",
       "    <tr>\n",
       "      <th>67039</th>\n",
       "      <td>xudo xohlasa to'layman</td>\n",
       "      <td>uz/uz</td>\n",
       "    </tr>\n",
       "    <tr>\n",
       "      <th>86129</th>\n",
       "      <td>erta qilamiz</td>\n",
       "      <td>uz/uz</td>\n",
       "    </tr>\n",
       "    <tr>\n",
       "      <th>89054</th>\n",
       "      <td>bugun to'laymiz ova</td>\n",
       "      <td>uz/uz</td>\n",
       "    </tr>\n",
       "    <tr>\n",
       "      <th>92472</th>\n",
       "      <td>to'lab yubordik ku</td>\n",
       "      <td>uz/uz</td>\n",
       "    </tr>\n",
       "    <tr>\n",
       "      <th>92522</th>\n",
       "      <td>allo</td>\n",
       "      <td>uz/uz</td>\n",
       "    </tr>\n",
       "    <tr>\n",
       "      <th>107585</th>\n",
       "      <td>ova men</td>\n",
       "      <td>uz/uz</td>\n",
       "    </tr>\n",
       "    <tr>\n",
       "      <th>110212</th>\n",
       "      <td>oshiraman ova to'layman</td>\n",
       "      <td>uz/uz</td>\n",
       "    </tr>\n",
       "    <tr>\n",
       "      <th>110263</th>\n",
       "      <td>ha ova</td>\n",
       "      <td>uz/uz</td>\n",
       "    </tr>\n",
       "    <tr>\n",
       "      <th>110327</th>\n",
       "      <td>ova men</td>\n",
       "      <td>uz/uz</td>\n",
       "    </tr>\n",
       "    <tr>\n",
       "      <th>113128</th>\n",
       "      <td>ova ova men</td>\n",
       "      <td>uz/uz</td>\n",
       "    </tr>\n",
       "    <tr>\n",
       "      <th>113223</th>\n",
       "      <td>ova karta orqali</td>\n",
       "      <td>uz/uz</td>\n",
       "    </tr>\n",
       "    <tr>\n",
       "      <th>113406</th>\n",
       "      <td>ova ova ova allo</td>\n",
       "      <td>uz/uz</td>\n",
       "    </tr>\n",
       "    <tr>\n",
       "      <th>115806</th>\n",
       "      <td>allo ova</td>\n",
       "      <td>uz/uz</td>\n",
       "    </tr>\n",
       "    <tr>\n",
       "      <th>121430</th>\n",
       "      <td>ha eshitaman ova</td>\n",
       "      <td>uz/uz</td>\n",
       "    </tr>\n",
       "    <tr>\n",
       "      <th>122222</th>\n",
       "      <td>ova ova ova karta orqali</td>\n",
       "      <td>uz/uz</td>\n",
       "    </tr>\n",
       "    <tr>\n",
       "      <th>122479</th>\n",
       "      <td>to'layman ova</td>\n",
       "      <td>uz/uz</td>\n",
       "    </tr>\n",
       "    <tr>\n",
       "      <th>122581</th>\n",
       "      <td>oshiraman ova</td>\n",
       "      <td>uz/uz</td>\n",
       "    </tr>\n",
       "    <tr>\n",
       "      <th>123915</th>\n",
       "      <td>bo'ladi bo'ladi beshi qarang uzog'i bilan beshiga qilib qo'ying dekabrni ungacha beshigacha oyligim tushadi shunda to'lab yuboraman</td>\n",
       "      <td>uz/uz</td>\n",
       "    </tr>\n",
       "    <tr>\n",
       "      <th>123984</th>\n",
       "      <td>xudo xohlasa ova</td>\n",
       "      <td>uz/uz</td>\n",
       "    </tr>\n",
       "    <tr>\n",
       "      <th>127649</th>\n",
       "      <td>xudo xohlasa ova</td>\n",
       "      <td>uz/uz</td>\n",
       "    </tr>\n",
       "    <tr>\n",
       "      <th>128660</th>\n",
       "      <td>tak to'laymiz ova</td>\n",
       "      <td>uz/uz</td>\n",
       "    </tr>\n",
       "    <tr>\n",
       "      <th>129710</th>\n",
       "      <td>to'laymiz ova</td>\n",
       "      <td>uz/uz</td>\n",
       "    </tr>\n",
       "    <tr>\n",
       "      <th>133982</th>\n",
       "      <td>to'lovni kechiktirmaslik uchun nimaga hullas nimaga kech to'lay olmayotganimiznimi nimani tushuntiray</td>\n",
       "      <td>uz/uz</td>\n",
       "    </tr>\n",
       "    <tr>\n",
       "      <th>135414</th>\n",
       "      <td>ova to'layman</td>\n",
       "      <td>uz/uz</td>\n",
       "    </tr>\n",
       "  </tbody>\n",
       "</table>\n",
       "</div>"
      ],
      "text/plain": [
       "                                                                                                                  transcriber_transcription   \n",
       "788                                                                                                                         ova ova men men  \\\n",
       "3201                                                                                                                       axtarib ko'ramiz   \n",
       "4378                                                                                                                         ova ova menman   \n",
       "5125                                                                                                                        ova ova to'g'ri   \n",
       "7634                                                                                                     ova ova qanday kompaniyadan deysan   \n",
       "10353                                                                                                                 kreditda kreditim bor   \n",
       "11097                                                                                                                     ova to'lay olaman   \n",
       "11807                                                                                                                      ha to'layman ova   \n",
       "14224                                                                                                                                 ovada   \n",
       "38617                                                                                o men plastikka oylik tushmayapti oylik tushsa aytaman   \n",
       "39559                                                                                                                 yettinchi noyabr kuni   \n",
       "46330                                                                                                                         ova to'layman   \n",
       "58049             allo assalomu alaykum mening kreditim yo'q hech qanday bu nomerni yaqinda oldimda bo'lmadi meni ozgina bu sim kartani men   \n",
       "67039                                                                                                                xudo xohlasa to'layman   \n",
       "86129                                                                                                                          erta qilamiz   \n",
       "89054                                                                                                                   bugun to'laymiz ova   \n",
       "92472                                                                                                                    to'lab yubordik ku   \n",
       "92522                                                                                                                                  allo   \n",
       "107585                                                                                                                              ova men   \n",
       "110212                                                                                                              oshiraman ova to'layman   \n",
       "110263                                                                                                                               ha ova   \n",
       "110327                                                                                                                              ova men   \n",
       "113128                                                                                                                          ova ova men   \n",
       "113223                                                                                                                     ova karta orqali   \n",
       "113406                                                                                                                     ova ova ova allo   \n",
       "115806                                                                                                                             allo ova   \n",
       "121430                                                                                                                     ha eshitaman ova   \n",
       "122222                                                                                                             ova ova ova karta orqali   \n",
       "122479                                                                                                                        to'layman ova   \n",
       "122581                                                                                                                        oshiraman ova   \n",
       "123915  bo'ladi bo'ladi beshi qarang uzog'i bilan beshiga qilib qo'ying dekabrni ungacha beshigacha oyligim tushadi shunda to'lab yuboraman   \n",
       "123984                                                                                                                     xudo xohlasa ova   \n",
       "127649                                                                                                                     xudo xohlasa ova   \n",
       "128660                                                                                                                    tak to'laymiz ova   \n",
       "129710                                                                                                                        to'laymiz ova   \n",
       "133982                                to'lovni kechiktirmaslik uchun nimaga hullas nimaga kech to'lay olmayotganimiznimi nimani tushuntiray   \n",
       "135414                                                                                                                        ova to'layman   \n",
       "\n",
       "       language  \n",
       "788       uz/uz  \n",
       "3201      uz/uz  \n",
       "4378      uz/uz  \n",
       "5125      uz/uz  \n",
       "7634      uz/uz  \n",
       "10353     uz/uz  \n",
       "11097     uz/uz  \n",
       "11807     uz/uz  \n",
       "14224     uz/uz  \n",
       "38617     uz/uz  \n",
       "39559     uz/uz  \n",
       "46330     uz/uz  \n",
       "58049     uz/uz  \n",
       "67039     uz/uz  \n",
       "86129     uz/uz  \n",
       "89054     uz/uz  \n",
       "92472     uz/uz  \n",
       "92522     uz/uz  \n",
       "107585    uz/uz  \n",
       "110212    uz/uz  \n",
       "110263    uz/uz  \n",
       "110327    uz/uz  \n",
       "113128    uz/uz  \n",
       "113223    uz/uz  \n",
       "113406    uz/uz  \n",
       "115806    uz/uz  \n",
       "121430    uz/uz  \n",
       "122222    uz/uz  \n",
       "122479    uz/uz  \n",
       "122581    uz/uz  \n",
       "123915    uz/uz  \n",
       "123984    uz/uz  \n",
       "127649    uz/uz  \n",
       "128660    uz/uz  \n",
       "129710    uz/uz  \n",
       "133982    uz/uz  \n",
       "135414    uz/uz  "
      ]
     },
     "execution_count": 51,
     "metadata": {},
     "output_type": "execute_result"
    }
   ],
   "source": [
    "df[df[\"language\"] == \"uz/uz\"][[\"transcriber_transcription\", \"language\"]]"
   ]
  },
  {
   "cell_type": "code",
   "execution_count": 52,
   "id": "8961cb10",
   "metadata": {},
   "outputs": [
    {
     "name": "stderr",
     "output_type": "stream",
     "text": [
      "<ipython-input-52-a9278ed8ff1f>:1: SettingWithCopyWarning: \n",
      "A value is trying to be set on a copy of a slice from a DataFrame.\n",
      "Try using .loc[row_indexer,col_indexer] = value instead\n",
      "\n",
      "See the caveats in the documentation: https://pandas.pydata.org/pandas-docs/stable/user_guide/indexing.html#returning-a-view-versus-a-copy\n",
      "  df[\"language\"] = df[\"language\"].str.replace(\"uz/uz\", \"uz\")\n"
     ]
    }
   ],
   "source": [
    "df[\"language\"] = df[\"language\"].str.replace(\"uz/uz\", \"uz\")"
   ]
  },
  {
   "cell_type": "code",
   "execution_count": 53,
   "id": "2315e019",
   "metadata": {},
   "outputs": [
    {
     "data": {
      "text/plain": [
       "language\n",
       "uz    124939\n",
       "ru      2325\n",
       "Name: count, dtype: int64"
      ]
     },
     "execution_count": 53,
     "metadata": {},
     "output_type": "execute_result"
    }
   ],
   "source": [
    "df[\"language\"].value_counts()"
   ]
  },
  {
   "cell_type": "code",
   "execution_count": 54,
   "id": "202efc27",
   "metadata": {},
   "outputs": [],
   "source": [
    "lang_drop = df[df[\"language\"] == \"ru\"].index"
   ]
  },
  {
   "cell_type": "code",
   "execution_count": 55,
   "id": "57182e22",
   "metadata": {},
   "outputs": [
    {
     "data": {
      "text/plain": [
       "2325"
      ]
     },
     "execution_count": 55,
     "metadata": {},
     "output_type": "execute_result"
    }
   ],
   "source": [
    "len(lang_drop)"
   ]
  },
  {
   "cell_type": "code",
   "execution_count": 56,
   "id": "30f4b267",
   "metadata": {},
   "outputs": [
    {
     "name": "stderr",
     "output_type": "stream",
     "text": [
      "<ipython-input-56-aaa05e04707a>:1: SettingWithCopyWarning: \n",
      "A value is trying to be set on a copy of a slice from a DataFrame\n",
      "\n",
      "See the caveats in the documentation: https://pandas.pydata.org/pandas-docs/stable/user_guide/indexing.html#returning-a-view-versus-a-copy\n",
      "  df.drop(lang_drop, inplace=True)\n"
     ]
    }
   ],
   "source": [
    "df.drop(lang_drop, inplace=True)"
   ]
  },
  {
   "cell_type": "code",
   "execution_count": 57,
   "id": "2c4f8f0b",
   "metadata": {},
   "outputs": [
    {
     "data": {
      "text/plain": [
       "language\n",
       "uz    124939\n",
       "Name: count, dtype: int64"
      ]
     },
     "execution_count": 57,
     "metadata": {},
     "output_type": "execute_result"
    }
   ],
   "source": [
    "df[\"language\"].value_counts()"
   ]
  },
  {
   "cell_type": "code",
   "execution_count": 59,
   "id": "dff688b6",
   "metadata": {},
   "outputs": [
    {
     "name": "stderr",
     "output_type": "stream",
     "text": [
      "<ipython-input-59-7e43b5593776>:1: SettingWithCopyWarning: \n",
      "A value is trying to be set on a copy of a slice from a DataFrame.\n",
      "Try using .loc[row_indexer,col_indexer] = value instead\n",
      "\n",
      "See the caveats in the documentation: https://pandas.pydata.org/pandas-docs/stable/user_guide/indexing.html#returning-a-view-versus-a-copy\n",
      "  df['wer'] = df[['robot_transcription', 'transcriber_transcription']].apply(lambda x:calcWer(x.robot_transcription, x.transcriber_transcription), axis=1)\n"
     ]
    }
   ],
   "source": [
    "df['wer'] = df[['robot_transcription', 'transcriber_transcription']].apply(lambda x:calcWer(x.robot_transcription, x.transcriber_transcription), axis=1)"
   ]
  },
  {
   "cell_type": "code",
   "execution_count": 60,
   "id": "fe09d949",
   "metadata": {},
   "outputs": [
    {
     "data": {
      "text/plain": [
       "wer\n",
       "0.000000    45191\n",
       "0.500000    27897\n",
       "1.000000    12635\n",
       "0.666667     9052\n",
       "0.333333     6649\n",
       "            ...  \n",
       "1.285714        1\n",
       "0.590909        1\n",
       "0.655172        1\n",
       "0.205128        1\n",
       "0.121212        1\n",
       "Name: count, Length: 277, dtype: int64"
      ]
     },
     "execution_count": 60,
     "metadata": {},
     "output_type": "execute_result"
    }
   ],
   "source": [
    "df['wer'].value_counts()"
   ]
  },
  {
   "cell_type": "code",
   "execution_count": 68,
   "id": "94f9b2c1",
   "metadata": {},
   "outputs": [
    {
     "name": "stderr",
     "output_type": "stream",
     "text": [
      "<ipython-input-68-386bbeaa9bf9>:1: SettingWithCopyWarning: \n",
      "A value is trying to be set on a copy of a slice from a DataFrame.\n",
      "Try using .loc[row_indexer,col_indexer] = value instead\n",
      "\n",
      "See the caveats in the documentation: https://pandas.pydata.org/pandas-docs/stable/user_guide/indexing.html#returning-a-view-versus-a-copy\n",
      "  df[\"golden_transcription\"] = df[\"transcriber_transcription\"].str.strip()\n"
     ]
    }
   ],
   "source": [
    "df[\"golden_transcription\"] = df[\"transcriber_transcription\"].str.strip()"
   ]
  },
  {
   "cell_type": "code",
   "execution_count": 69,
   "id": "46d92a84",
   "metadata": {},
   "outputs": [
    {
     "name": "stderr",
     "output_type": "stream",
     "text": [
      "<ipython-input-69-c3b9b689d734>:1: SettingWithCopyWarning: \n",
      "A value is trying to be set on a copy of a slice from a DataFrame.\n",
      "Try using .loc[row_indexer,col_indexer] = value instead\n",
      "\n",
      "See the caveats in the documentation: https://pandas.pydata.org/pandas-docs/stable/user_guide/indexing.html#returning-a-view-versus-a-copy\n",
      "  df[\"length\"] = df[\"transcriber_transcription\"].str.split().str.len()\n"
     ]
    }
   ],
   "source": [
    "df[\"length\"] = df[\"transcriber_transcription\"].str.split().str.len()"
   ]
  },
  {
   "cell_type": "code",
   "execution_count": 70,
   "id": "283961f9",
   "metadata": {},
   "outputs": [
    {
     "data": {
      "text/plain": [
       "length\n",
       "2     39285\n",
       "1     22916\n",
       "3     22481\n",
       "4     10264\n",
       "5      7682\n",
       "6      4809\n",
       "7      3714\n",
       "8      2953\n",
       "9      2296\n",
       "10     1831\n",
       "11     1444\n",
       "12     1063\n",
       "13      881\n",
       "14      675\n",
       "15      552\n",
       "16      411\n",
       "17      363\n",
       "18      271\n",
       "19      211\n",
       "20      138\n",
       "21      125\n",
       "22      112\n",
       "23       80\n",
       "24       70\n",
       "25       60\n",
       "27       48\n",
       "26       38\n",
       "28       37\n",
       "30       28\n",
       "29       24\n",
       "32       18\n",
       "31       17\n",
       "34       10\n",
       "33        8\n",
       "37        8\n",
       "35        6\n",
       "36        4\n",
       "38        3\n",
       "39        2\n",
       "40        1\n",
       "Name: count, dtype: int64"
      ]
     },
     "execution_count": 70,
     "metadata": {},
     "output_type": "execute_result"
    }
   ],
   "source": [
    "df[\"length\"].value_counts()"
   ]
  },
  {
   "cell_type": "code",
   "execution_count": 87,
   "id": "4b1f5374",
   "metadata": {},
   "outputs": [
    {
     "data": {
      "text/plain": [
       "transcriber_transcription\n",
       "hop              791\n",
       "aha              772\n",
       "ertaga           647\n",
       "ha               627\n",
       "yo'q             604\n",
       "eshitaman        531\n",
       "tushunmadim      516\n",
       "mxm              303\n",
       "bugun            247\n",
       "albatta          239\n",
       "kim              227\n",
       "labbay           194\n",
       "assalom          161\n",
       "bo'ladi          141\n",
       "salom            137\n",
       "yaxshi           130\n",
       "nimani           126\n",
       "to'layman        120\n",
       "to'laymiz        114\n",
       "yaxshimisiz      114\n",
       "mayli            105\n",
       "men               94\n",
       "tushunarli        87\n",
       "shunday           86\n",
       "eshityapman       86\n",
       "to'g'ri           84\n",
       "haa               82\n",
       "kartadan          80\n",
       "eshityapsizmi     79\n",
       "nima              78\n",
       "Name: count, dtype: int64"
      ]
     },
     "execution_count": 87,
     "metadata": {},
     "output_type": "execute_result"
    }
   ],
   "source": [
    "df[df[\"length\"] == 1][\"transcriber_transcription\"].value_counts().head(30)"
   ]
  },
  {
   "cell_type": "code",
   "execution_count": 81,
   "id": "275e6d0c",
   "metadata": {},
   "outputs": [],
   "source": [
    "allo_ind = df[(df[\"transcriber_transcription\"].str.contains(\"allo\")) & (df[\"length\"] == 1)].index"
   ]
  },
  {
   "cell_type": "code",
   "execution_count": 82,
   "id": "58b2a2cc",
   "metadata": {},
   "outputs": [
    {
     "data": {
      "text/plain": [
       "12231"
      ]
     },
     "execution_count": 82,
     "metadata": {},
     "output_type": "execute_result"
    }
   ],
   "source": [
    "len(allo_ind)"
   ]
  },
  {
   "cell_type": "code",
   "execution_count": 83,
   "id": "b1df9d69",
   "metadata": {},
   "outputs": [
    {
     "name": "stderr",
     "output_type": "stream",
     "text": [
      "<ipython-input-83-f73f4ad98e2b>:1: SettingWithCopyWarning: \n",
      "A value is trying to be set on a copy of a slice from a DataFrame\n",
      "\n",
      "See the caveats in the documentation: https://pandas.pydata.org/pandas-docs/stable/user_guide/indexing.html#returning-a-view-versus-a-copy\n",
      "  df.drop(allo_ind, inplace=True)\n"
     ]
    }
   ],
   "source": [
    "df.drop(allo_ind, inplace=True)"
   ]
  },
  {
   "cell_type": "code",
   "execution_count": 95,
   "id": "3c50c081",
   "metadata": {},
   "outputs": [
    {
     "data": {
      "text/plain": [
       "transcriber_transcription\n",
       "va alaykum             1029\n",
       "ha ha                   802\n",
       "ha menman               428\n",
       "ha men                  400\n",
       "allo allo               374\n",
       "hop hop                 298\n",
       "harakat qilaman         282\n",
       "kim bu                  255\n",
       "xudo xohlasa            233\n",
       "harakat qilamiz         212\n",
       "nima deysiz             205\n",
       "yo'q yo'q               182\n",
       "bo'ladi bo'ladi         177\n",
       "ertaga ertaga           169\n",
       "karta orqali            162\n",
       "to'laymiz to'laymiz     159\n",
       "assalomu alaykum        155\n",
       "ha to'layman            150\n",
       "allo eshitaman          147\n",
       "to'layman to'layman     131\n",
       "qaysi bank              124\n",
       "ertaga to'layman        116\n",
       "qanaqa kredit           111\n",
       "bugun bugun             104\n",
       "ha to'laymiz            103\n",
       "men men                  97\n",
       "ha eshitaman             95\n",
       "ha bo'ladi               84\n",
       "qanaqa qarz              80\n",
       "hov eshitaman            79\n",
       "Name: count, dtype: int64"
      ]
     },
     "execution_count": 95,
     "metadata": {},
     "output_type": "execute_result"
    }
   ],
   "source": [
    "df[df[\"length\"] == 2][\"transcriber_transcription\"].value_counts().head(30)"
   ]
  },
  {
   "cell_type": "code",
   "execution_count": 92,
   "id": "1030d050",
   "metadata": {},
   "outputs": [],
   "source": [
    " audio0_drop = df[(df[\"transcriber_transcription\"].str.contains(\"assalomu alaykum\")) & (df[\"audio\"].str.contains(\"audio0\") & (df[\"length\"] == 2))].index"
   ]
  },
  {
   "cell_type": "code",
   "execution_count": 93,
   "id": "f11cfc14",
   "metadata": {},
   "outputs": [
    {
     "data": {
      "text/plain": [
       "21732"
      ]
     },
     "execution_count": 93,
     "metadata": {},
     "output_type": "execute_result"
    }
   ],
   "source": [
    "len(audio0_drop)"
   ]
  },
  {
   "cell_type": "code",
   "execution_count": 94,
   "id": "e72e2af0",
   "metadata": {},
   "outputs": [
    {
     "name": "stderr",
     "output_type": "stream",
     "text": [
      "<ipython-input-94-e20c01cbf0e6>:1: SettingWithCopyWarning: \n",
      "A value is trying to be set on a copy of a slice from a DataFrame\n",
      "\n",
      "See the caveats in the documentation: https://pandas.pydata.org/pandas-docs/stable/user_guide/indexing.html#returning-a-view-versus-a-copy\n",
      "  df.drop(audio0_drop, inplace=True)\n"
     ]
    }
   ],
   "source": [
    "df.drop(audio0_drop, inplace=True)"
   ]
  },
  {
   "cell_type": "code",
   "execution_count": 96,
   "id": "4239e2d1",
   "metadata": {},
   "outputs": [
    {
     "name": "stdout",
     "output_type": "stream",
     "text": [
      "<class 'pandas.core.frame.DataFrame'>\n",
      "Index: 90976 entries, 4 to 135810\n",
      "Data columns (total 34 columns):\n",
      " #   Column                       Non-Null Count  Dtype  \n",
      "---  ------                       --------------  -----  \n",
      " 0   id                           90976 non-null  int64  \n",
      " 1   audio                        90976 non-null  object \n",
      " 2   golden_status                90976 non-null  object \n",
      " 3   status                       90976 non-null  object \n",
      " 4   transcriber                  90976 non-null  object \n",
      " 5   superviser                   90976 non-null  object \n",
      " 6   golden_transcription         90976 non-null  object \n",
      " 7   transcriber_transcription    90976 non-null  object \n",
      " 8   theme                        90976 non-null  object \n",
      " 9   robot_transcription          90763 non-null  object \n",
      " 10  timestamp_create             90976 non-null  int64  \n",
      " 11  timestamp_change             90976 non-null  int64  \n",
      " 12  transcriber_id               90976 non-null  int64  \n",
      " 13  superviser_id                90976 non-null  int64  \n",
      " 14  score_transcriber            90976 non-null  int64  \n",
      " 15  wer                          90976 non-null  float64\n",
      " 16  pool                         90976 non-null  object \n",
      " 17  sex                          90976 non-null  object \n",
      " 18  speakers                     90976 non-null  int64  \n",
      " 19  language                     90976 non-null  object \n",
      " 20  transcriber_type2            1 non-null      object \n",
      " 21  transcriber_id_type2         1 non-null      float64\n",
      " 22  superviser_type2             0 non-null      float64\n",
      " 23  superviser_id_type2          0 non-null      float64\n",
      " 24  tags                         0 non-null      float64\n",
      " 25  emotion                      0 non-null      float64\n",
      " 26  score_transcriber_type2      0 non-null      float64\n",
      " 27  category_error               0 non-null      float64\n",
      " 28  comments                     0 non-null      float64\n",
      " 29  timestamp_transcribed        90976 non-null  int64  \n",
      " 30  duration                     90976 non-null  float64\n",
      " 31  timestamp_transcribed_type2  90976 non-null  int64  \n",
      " 32  bad                          90976 non-null  object \n",
      " 33  length                       90976 non-null  int64  \n",
      "dtypes: float64(10), int64(10), object(14)\n",
      "memory usage: 24.3+ MB\n"
     ]
    }
   ],
   "source": [
    "df.info()"
   ]
  },
  {
   "cell_type": "code",
   "execution_count": 97,
   "id": "e616df40",
   "metadata": {},
   "outputs": [
    {
     "data": {
      "text/html": [
       "<div>\n",
       "<style scoped>\n",
       "    .dataframe tbody tr th:only-of-type {\n",
       "        vertical-align: middle;\n",
       "    }\n",
       "\n",
       "    .dataframe tbody tr th {\n",
       "        vertical-align: top;\n",
       "    }\n",
       "\n",
       "    .dataframe thead th {\n",
       "        text-align: right;\n",
       "    }\n",
       "</style>\n",
       "<table border=\"1\" class=\"dataframe\">\n",
       "  <thead>\n",
       "    <tr style=\"text-align: right;\">\n",
       "      <th></th>\n",
       "      <th>audio</th>\n",
       "      <th>robot_transcription</th>\n",
       "      <th>transcriber_transcription</th>\n",
       "      <th>wer</th>\n",
       "    </tr>\n",
       "  </thead>\n",
       "  <tbody>\n",
       "    <tr>\n",
       "      <th>6</th>\n",
       "      <td>audio0_9739144_1701947814_941498590_1701947825-in.wav</td>\n",
       "      <td>vaaleykum</td>\n",
       "      <td>va alaykum</td>\n",
       "      <td>1.0</td>\n",
       "    </tr>\n",
       "    <tr>\n",
       "      <th>15</th>\n",
       "      <td>audio3_9782001_1702284772_903510035_1702284825-in.wav</td>\n",
       "      <td>vaaleykum</td>\n",
       "      <td>va alaykum</td>\n",
       "      <td>1.0</td>\n",
       "    </tr>\n",
       "    <tr>\n",
       "      <th>17</th>\n",
       "      <td>audio5_9821937_1702472957_996749995_1702473041-in.wav</td>\n",
       "      <td>NaN</td>\n",
       "      <td>aaa</td>\n",
       "      <td>1.0</td>\n",
       "    </tr>\n",
       "    <tr>\n",
       "      <th>33</th>\n",
       "      <td>audio3_9720502_1701858156_943395270_1701858201-in.wav</td>\n",
       "      <td>menga qadasiz</td>\n",
       "      <td>qanday qarz</td>\n",
       "      <td>1.0</td>\n",
       "    </tr>\n",
       "    <tr>\n",
       "      <th>34</th>\n",
       "      <td>audio42_9737649_1701945168_973640087_1701945260-in.wav</td>\n",
       "      <td>nechi pul</td>\n",
       "      <td>necha kun</td>\n",
       "      <td>1.0</td>\n",
       "    </tr>\n",
       "    <tr>\n",
       "      <th>...</th>\n",
       "      <td>...</td>\n",
       "      <td>...</td>\n",
       "      <td>...</td>\n",
       "      <td>...</td>\n",
       "    </tr>\n",
       "    <tr>\n",
       "      <th>135624</th>\n",
       "      <td>audio3_9738731_1701947079_947070959_1701947125-in.wav</td>\n",
       "      <td>kredit qachon bo'lada pensiya to'laymiz</td>\n",
       "      <td>a unda pensijadan to'laymiz</td>\n",
       "      <td>1.0</td>\n",
       "    </tr>\n",
       "    <tr>\n",
       "      <th>135659</th>\n",
       "      <td>audio3_9729405_1701854319_970034848_1701854338-in.wav</td>\n",
       "      <td>mayli</td>\n",
       "      <td>nima</td>\n",
       "      <td>1.0</td>\n",
       "    </tr>\n",
       "    <tr>\n",
       "      <th>135670</th>\n",
       "      <td>audio0_9780501_1702282203_979990938_1702282239-in.wav</td>\n",
       "      <td>vaaleykum</td>\n",
       "      <td>va alaykum assalom</td>\n",
       "      <td>1.0</td>\n",
       "    </tr>\n",
       "    <tr>\n",
       "      <th>135688</th>\n",
       "      <td>audio3_9778989_1702279623_909082277_1702279658-in.wav</td>\n",
       "      <td>ana lishyapsizmi</td>\n",
       "      <td>alisher eshityapsizmi</td>\n",
       "      <td>1.0</td>\n",
       "    </tr>\n",
       "    <tr>\n",
       "      <th>135761</th>\n",
       "      <td>audio3_9723965_1701854627_973635020_1701854689-in.wav</td>\n",
       "      <td>nechgacha</td>\n",
       "      <td>hech qachon</td>\n",
       "      <td>1.0</td>\n",
       "    </tr>\n",
       "  </tbody>\n",
       "</table>\n",
       "<p>6037 rows × 4 columns</p>\n",
       "</div>"
      ],
      "text/plain": [
       "                                                         audio   \n",
       "6        audio0_9739144_1701947814_941498590_1701947825-in.wav  \\\n",
       "15       audio3_9782001_1702284772_903510035_1702284825-in.wav   \n",
       "17       audio5_9821937_1702472957_996749995_1702473041-in.wav   \n",
       "33       audio3_9720502_1701858156_943395270_1701858201-in.wav   \n",
       "34      audio42_9737649_1701945168_973640087_1701945260-in.wav   \n",
       "...                                                        ...   \n",
       "135624   audio3_9738731_1701947079_947070959_1701947125-in.wav   \n",
       "135659   audio3_9729405_1701854319_970034848_1701854338-in.wav   \n",
       "135670   audio0_9780501_1702282203_979990938_1702282239-in.wav   \n",
       "135688   audio3_9778989_1702279623_909082277_1702279658-in.wav   \n",
       "135761   audio3_9723965_1701854627_973635020_1701854689-in.wav   \n",
       "\n",
       "                            robot_transcription    transcriber_transcription   \n",
       "6                                     vaaleykum                   va alaykum  \\\n",
       "15                                    vaaleykum                   va alaykum   \n",
       "17                                          NaN                          aaa   \n",
       "33                                menga qadasiz                  qanday qarz   \n",
       "34                                    nechi pul                    necha kun   \n",
       "...                                         ...                          ...   \n",
       "135624  kredit qachon bo'lada pensiya to'laymiz  a unda pensijadan to'laymiz   \n",
       "135659                                    mayli                         nima   \n",
       "135670                                vaaleykum           va alaykum assalom   \n",
       "135688                         ana lishyapsizmi        alisher eshityapsizmi   \n",
       "135761                                nechgacha                  hech qachon   \n",
       "\n",
       "        wer  \n",
       "6       1.0  \n",
       "15      1.0  \n",
       "17      1.0  \n",
       "33      1.0  \n",
       "34      1.0  \n",
       "...     ...  \n",
       "135624  1.0  \n",
       "135659  1.0  \n",
       "135670  1.0  \n",
       "135688  1.0  \n",
       "135761  1.0  \n",
       "\n",
       "[6037 rows x 4 columns]"
      ]
     },
     "execution_count": 97,
     "metadata": {},
     "output_type": "execute_result"
    }
   ],
   "source": [
    "df[(df['wer'] < 1.1) & (df['wer'] > 0.9)][[\"audio\", \"robot_transcription\", \"transcriber_transcription\", \"wer\"]]"
   ]
  },
  {
   "cell_type": "code",
   "execution_count": 102,
   "id": "fbff0e80",
   "metadata": {},
   "outputs": [
    {
     "data": {
      "text/html": [
       "<div>\n",
       "<style scoped>\n",
       "    .dataframe tbody tr th:only-of-type {\n",
       "        vertical-align: middle;\n",
       "    }\n",
       "\n",
       "    .dataframe tbody tr th {\n",
       "        vertical-align: top;\n",
       "    }\n",
       "\n",
       "    .dataframe thead th {\n",
       "        text-align: right;\n",
       "    }\n",
       "</style>\n",
       "<table border=\"1\" class=\"dataframe\">\n",
       "  <thead>\n",
       "    <tr style=\"text-align: right;\">\n",
       "      <th></th>\n",
       "      <th>audio</th>\n",
       "      <th>robot_transcription</th>\n",
       "      <th>transcriber_transcription</th>\n",
       "      <th>wer</th>\n",
       "    </tr>\n",
       "  </thead>\n",
       "  <tbody>\n",
       "    <tr>\n",
       "      <th>1180</th>\n",
       "      <td>audio34_9287014_1697193798_999116997_1697193876-in.wav</td>\n",
       "      <td>tushib boray ovoz kelyapti</td>\n",
       "      <td>tushunmadim ovozingiz kelmayapti</td>\n",
       "      <td>1.333333</td>\n",
       "    </tr>\n",
       "    <tr>\n",
       "      <th>2182</th>\n",
       "      <td>audio34_9405406_1698757257_901140703_1698757340-in.wav</td>\n",
       "      <td>xuddi shunday qarab turamiz zaksa bo'lishcha</td>\n",
       "      <td>xuddi shunaqa tranzaktsija bo'yicha</td>\n",
       "      <td>1.250000</td>\n",
       "    </tr>\n",
       "    <tr>\n",
       "      <th>2422</th>\n",
       "      <td>audio34_9385297_1698320779_332041999_1698320842-in.wav</td>\n",
       "      <td>to'g'ri to'laymizda shu yorqali to'laydi ekan</td>\n",
       "      <td>zoodpay orqali to'lar ekan</td>\n",
       "      <td>1.250000</td>\n",
       "    </tr>\n",
       "    <tr>\n",
       "      <th>2732</th>\n",
       "      <td>audio74_9333275_1697885018_913669897_1697885127-in.wav</td>\n",
       "      <td>da yashimingiz nechi da</td>\n",
       "      <td>iroda yoshingiz nechada</td>\n",
       "      <td>1.333333</td>\n",
       "    </tr>\n",
       "    <tr>\n",
       "      <th>2830</th>\n",
       "      <td>audio3_9385173_1698319342_932496000_1698319362-in.wav</td>\n",
       "      <td>za ipal qilishdik bo'lyapti</td>\n",
       "      <td>zeabel qilishdi bljad'</td>\n",
       "      <td>1.333333</td>\n",
       "    </tr>\n",
       "    <tr>\n",
       "      <th>...</th>\n",
       "      <td>...</td>\n",
       "      <td>...</td>\n",
       "      <td>...</td>\n",
       "      <td>...</td>\n",
       "    </tr>\n",
       "    <tr>\n",
       "      <th>133404</th>\n",
       "      <td>audio3_9740224_1701949741_913028874_1701949785-in.wav</td>\n",
       "      <td>ay yo'q bo'lmaydi oylik ay</td>\n",
       "      <td>oylik bo'lmadi oylik</td>\n",
       "      <td>1.333333</td>\n",
       "    </tr>\n",
       "    <tr>\n",
       "      <th>134035</th>\n",
       "      <td>audio0_9787729_1702297097_949095325_1702297123-in.wav</td>\n",
       "      <td>vaaleykum omo opa eshitaman allo</td>\n",
       "      <td>va alaykum allo</td>\n",
       "      <td>1.333333</td>\n",
       "    </tr>\n",
       "    <tr>\n",
       "      <th>134158</th>\n",
       "      <td>audio3_9745672_1701959618_995428571_1701959681-in.wav</td>\n",
       "      <td>alyo ovoz kim edi</td>\n",
       "      <td>allo ovozingiz kelmayapti</td>\n",
       "      <td>1.333333</td>\n",
       "    </tr>\n",
       "    <tr>\n",
       "      <th>134683</th>\n",
       "      <td>audio5_9820523_1702467826_946509559_1702467861-in.wav</td>\n",
       "      <td>xudo xohlasa oylik vaxtingiz yo'q</td>\n",
       "      <td>oylik vaqtida tushmagan</td>\n",
       "      <td>1.333333</td>\n",
       "    </tr>\n",
       "    <tr>\n",
       "      <th>135270</th>\n",
       "      <td>audio5_9738835_1701947293_907007514_1701947376-in.wav</td>\n",
       "      <td>alyo beri qarang gapni qarang hozir</td>\n",
       "      <td>allo bu yoqga qarang</td>\n",
       "      <td>1.250000</td>\n",
       "    </tr>\n",
       "  </tbody>\n",
       "</table>\n",
       "<p>155 rows × 4 columns</p>\n",
       "</div>"
      ],
      "text/plain": [
       "                                                         audio   \n",
       "1180    audio34_9287014_1697193798_999116997_1697193876-in.wav  \\\n",
       "2182    audio34_9405406_1698757257_901140703_1698757340-in.wav   \n",
       "2422    audio34_9385297_1698320779_332041999_1698320842-in.wav   \n",
       "2732    audio74_9333275_1697885018_913669897_1697885127-in.wav   \n",
       "2830     audio3_9385173_1698319342_932496000_1698319362-in.wav   \n",
       "...                                                        ...   \n",
       "133404   audio3_9740224_1701949741_913028874_1701949785-in.wav   \n",
       "134035   audio0_9787729_1702297097_949095325_1702297123-in.wav   \n",
       "134158   audio3_9745672_1701959618_995428571_1701959681-in.wav   \n",
       "134683   audio5_9820523_1702467826_946509559_1702467861-in.wav   \n",
       "135270   audio5_9738835_1701947293_907007514_1701947376-in.wav   \n",
       "\n",
       "                                  robot_transcription   \n",
       "1180                       tushib boray ovoz kelyapti  \\\n",
       "2182     xuddi shunday qarab turamiz zaksa bo'lishcha   \n",
       "2422    to'g'ri to'laymizda shu yorqali to'laydi ekan   \n",
       "2732                          da yashimingiz nechi da   \n",
       "2830                      za ipal qilishdik bo'lyapti   \n",
       "...                                               ...   \n",
       "133404                     ay yo'q bo'lmaydi oylik ay   \n",
       "134035               vaaleykum omo opa eshitaman allo   \n",
       "134158                              alyo ovoz kim edi   \n",
       "134683              xudo xohlasa oylik vaxtingiz yo'q   \n",
       "135270            alyo beri qarang gapni qarang hozir   \n",
       "\n",
       "                  transcriber_transcription       wer  \n",
       "1180       tushunmadim ovozingiz kelmayapti  1.333333  \n",
       "2182    xuddi shunaqa tranzaktsija bo'yicha  1.250000  \n",
       "2422             zoodpay orqali to'lar ekan  1.250000  \n",
       "2732                iroda yoshingiz nechada  1.333333  \n",
       "2830                 zeabel qilishdi bljad'  1.333333  \n",
       "...                                     ...       ...  \n",
       "133404                 oylik bo'lmadi oylik  1.333333  \n",
       "134035                      va alaykum allo  1.333333  \n",
       "134158            allo ovozingiz kelmayapti  1.333333  \n",
       "134683              oylik vaqtida tushmagan  1.333333  \n",
       "135270                 allo bu yoqga qarang  1.250000  \n",
       "\n",
       "[155 rows x 4 columns]"
      ]
     },
     "execution_count": 102,
     "metadata": {},
     "output_type": "execute_result"
    }
   ],
   "source": [
    "df[(df['wer'] < 1.5) & (df['wer'] > 1)][[\"audio\", \"robot_transcription\", \"transcriber_transcription\", \"wer\"]]"
   ]
  },
  {
   "cell_type": "code",
   "execution_count": 105,
   "id": "8b8cdce2",
   "metadata": {},
   "outputs": [],
   "source": [
    "ind_drop = df[(df['wer'] > 1.5)][[\"audio\", \"robot_transcription\", \"transcriber_transcription\", \"wer\"]].index"
   ]
  },
  {
   "cell_type": "code",
   "execution_count": 106,
   "id": "950b427d",
   "metadata": {},
   "outputs": [
    {
     "data": {
      "text/plain": [
       "643"
      ]
     },
     "execution_count": 106,
     "metadata": {},
     "output_type": "execute_result"
    }
   ],
   "source": [
    "len(ind_drop)"
   ]
  },
  {
   "cell_type": "code",
   "execution_count": 107,
   "id": "4922bf27",
   "metadata": {},
   "outputs": [
    {
     "name": "stderr",
     "output_type": "stream",
     "text": [
      "<ipython-input-107-8aeb4d3731c9>:1: SettingWithCopyWarning: \n",
      "A value is trying to be set on a copy of a slice from a DataFrame\n",
      "\n",
      "See the caveats in the documentation: https://pandas.pydata.org/pandas-docs/stable/user_guide/indexing.html#returning-a-view-versus-a-copy\n",
      "  df.drop(ind_drop, inplace=True)\n"
     ]
    }
   ],
   "source": [
    "df.drop(ind_drop, inplace=True)"
   ]
  },
  {
   "cell_type": "code",
   "execution_count": 108,
   "id": "245d9ca9",
   "metadata": {},
   "outputs": [],
   "source": [
    "ind_drop = df[(df['wer'] > 1.5)][[\"audio\", \"robot_transcription\", \"transcriber_transcription\", \"wer\"]].index"
   ]
  },
  {
   "cell_type": "code",
   "execution_count": 109,
   "id": "75a9a56e",
   "metadata": {},
   "outputs": [
    {
     "data": {
      "text/plain": [
       "0"
      ]
     },
     "execution_count": 109,
     "metadata": {},
     "output_type": "execute_result"
    }
   ],
   "source": [
    "len(ind_drop)"
   ]
  },
  {
   "cell_type": "code",
   "execution_count": 110,
   "id": "622365e9",
   "metadata": {},
   "outputs": [
    {
     "name": "stderr",
     "output_type": "stream",
     "text": [
      "<ipython-input-110-321f1d7afe09>:1: SettingWithCopyWarning: \n",
      "A value is trying to be set on a copy of a slice from a DataFrame\n",
      "\n",
      "See the caveats in the documentation: https://pandas.pydata.org/pandas-docs/stable/user_guide/indexing.html#returning-a-view-versus-a-copy\n",
      "  df.rename(columns={'audio': 'audio_filepath', 'transcriber_transcription': 'text', 'language': 'lang'}, inplace=True)\n"
     ]
    }
   ],
   "source": [
    "df.rename(columns={'audio': 'audio_filepath', 'transcriber_transcription': 'text', 'language': 'lang'}, inplace=True)"
   ]
  },
  {
   "cell_type": "code",
   "execution_count": 111,
   "id": "2e071fc6",
   "metadata": {},
   "outputs": [
    {
     "data": {
      "text/plain": [
       "lang\n",
       "uz    90333\n",
       "Name: count, dtype: int64"
      ]
     },
     "execution_count": 111,
     "metadata": {},
     "output_type": "execute_result"
    }
   ],
   "source": [
    "df[\"lang\"].value_counts()"
   ]
  },
  {
   "cell_type": "code",
   "execution_count": 112,
   "id": "a95b9a83",
   "metadata": {},
   "outputs": [
    {
     "data": {
      "text/html": [
       "<div>\n",
       "<style scoped>\n",
       "    .dataframe tbody tr th:only-of-type {\n",
       "        vertical-align: middle;\n",
       "    }\n",
       "\n",
       "    .dataframe tbody tr th {\n",
       "        vertical-align: top;\n",
       "    }\n",
       "\n",
       "    .dataframe thead th {\n",
       "        text-align: right;\n",
       "    }\n",
       "</style>\n",
       "<table border=\"1\" class=\"dataframe\">\n",
       "  <thead>\n",
       "    <tr style=\"text-align: right;\">\n",
       "      <th></th>\n",
       "      <th>audio_filepath</th>\n",
       "      <th>duration</th>\n",
       "      <th>text</th>\n",
       "      <th>lang</th>\n",
       "    </tr>\n",
       "  </thead>\n",
       "  <tbody>\n",
       "    <tr>\n",
       "      <th>4</th>\n",
       "      <td>audio3_9780056_1702281434_946130557_1702281466-in.wav</td>\n",
       "      <td>3.080000</td>\n",
       "      <td>o'n beshinchida to'layman</td>\n",
       "      <td>uz</td>\n",
       "    </tr>\n",
       "    <tr>\n",
       "      <th>5</th>\n",
       "      <td>audio3_9738489_1701946642_907446273_1701946689-in.wav</td>\n",
       "      <td>1.080000</td>\n",
       "      <td>hop</td>\n",
       "      <td>uz</td>\n",
       "    </tr>\n",
       "    <tr>\n",
       "      <th>6</th>\n",
       "      <td>audio0_9739144_1701947814_941498590_1701947825-in.wav</td>\n",
       "      <td>2.060000</td>\n",
       "      <td>va alaykum</td>\n",
       "      <td>uz</td>\n",
       "    </tr>\n",
       "    <tr>\n",
       "      <th>7</th>\n",
       "      <td>audio39_9816575_1702452215_975330880_1702452255-in.wav</td>\n",
       "      <td>2.060000</td>\n",
       "      <td>hop</td>\n",
       "      <td>uz</td>\n",
       "    </tr>\n",
       "    <tr>\n",
       "      <th>8</th>\n",
       "      <td>audio3_9742513_1701953825_935220678_1701953877-in.wav</td>\n",
       "      <td>2.060000</td>\n",
       "      <td>oldilaring ku</td>\n",
       "      <td>uz</td>\n",
       "    </tr>\n",
       "    <tr>\n",
       "      <th>...</th>\n",
       "      <td>...</td>\n",
       "      <td>...</td>\n",
       "      <td>...</td>\n",
       "      <td>...</td>\n",
       "    </tr>\n",
       "    <tr>\n",
       "      <th>135805</th>\n",
       "      <td>audio39_9782276_1702285235_997180100_1702285279-in.wav</td>\n",
       "      <td>4.160000</td>\n",
       "      <td>ha uch kun ichida to'lanadi uch kunlar ichida tushadi oyligim</td>\n",
       "      <td>uz</td>\n",
       "    </tr>\n",
       "    <tr>\n",
       "      <th>135807</th>\n",
       "      <td>audio3_9788239_1702298938_995142541_1702298986-in.wav</td>\n",
       "      <td>6.160000</td>\n",
       "      <td>shu kredit qarzdorligi nima uchun deb so'rayapman qarzdorligimiz yo'qda chunki</td>\n",
       "      <td>uz</td>\n",
       "    </tr>\n",
       "    <tr>\n",
       "      <th>135808</th>\n",
       "      <td>audio39_9782562_1702285688_979334848_1702285757-in.wav</td>\n",
       "      <td>7.170023</td>\n",
       "      <td>yo'q mana shu haftani oxirigacha oylik tushadida o'zi ulanib turibdi ku plastik srazu qirqib oladi o'zi har oy qirqyapti ku</td>\n",
       "      <td>uz</td>\n",
       "    </tr>\n",
       "    <tr>\n",
       "      <th>135809</th>\n",
       "      <td>audio3_9743010_1701954778_889530555_1701954830-in.wav</td>\n",
       "      <td>9.250023</td>\n",
       "      <td>hop hop to'laymiz oylik o'n beshiga tushadi zavodga o'shanga sal kechikib qoldida shu safar tashlab qo'yamiz</td>\n",
       "      <td>uz</td>\n",
       "    </tr>\n",
       "    <tr>\n",
       "      <th>135810</th>\n",
       "      <td>audio3_9820195_1702466704_937733280_1702466739-in.wav</td>\n",
       "      <td>4.100000</td>\n",
       "      <td>bugun bugun to'layman bugun</td>\n",
       "      <td>uz</td>\n",
       "    </tr>\n",
       "  </tbody>\n",
       "</table>\n",
       "<p>90333 rows × 4 columns</p>\n",
       "</div>"
      ],
      "text/plain": [
       "                                                audio_filepath  duration   \n",
       "4        audio3_9780056_1702281434_946130557_1702281466-in.wav  3.080000  \\\n",
       "5        audio3_9738489_1701946642_907446273_1701946689-in.wav  1.080000   \n",
       "6        audio0_9739144_1701947814_941498590_1701947825-in.wav  2.060000   \n",
       "7       audio39_9816575_1702452215_975330880_1702452255-in.wav  2.060000   \n",
       "8        audio3_9742513_1701953825_935220678_1701953877-in.wav  2.060000   \n",
       "...                                                        ...       ...   \n",
       "135805  audio39_9782276_1702285235_997180100_1702285279-in.wav  4.160000   \n",
       "135807   audio3_9788239_1702298938_995142541_1702298986-in.wav  6.160000   \n",
       "135808  audio39_9782562_1702285688_979334848_1702285757-in.wav  7.170023   \n",
       "135809   audio3_9743010_1701954778_889530555_1701954830-in.wav  9.250023   \n",
       "135810   audio3_9820195_1702466704_937733280_1702466739-in.wav  4.100000   \n",
       "\n",
       "                                                                                                                               text   \n",
       "4                                                                                                         o'n beshinchida to'layman  \\\n",
       "5                                                                                                                               hop   \n",
       "6                                                                                                                        va alaykum   \n",
       "7                                                                                                                               hop   \n",
       "8                                                                                                                     oldilaring ku   \n",
       "...                                                                                                                             ...   \n",
       "135805                                                                ha uch kun ichida to'lanadi uch kunlar ichida tushadi oyligim   \n",
       "135807                                               shu kredit qarzdorligi nima uchun deb so'rayapman qarzdorligimiz yo'qda chunki   \n",
       "135808  yo'q mana shu haftani oxirigacha oylik tushadida o'zi ulanib turibdi ku plastik srazu qirqib oladi o'zi har oy qirqyapti ku   \n",
       "135809                 hop hop to'laymiz oylik o'n beshiga tushadi zavodga o'shanga sal kechikib qoldida shu safar tashlab qo'yamiz   \n",
       "135810                                                                                                  bugun bugun to'layman bugun   \n",
       "\n",
       "       lang  \n",
       "4        uz  \n",
       "5        uz  \n",
       "6        uz  \n",
       "7        uz  \n",
       "8        uz  \n",
       "...     ...  \n",
       "135805   uz  \n",
       "135807   uz  \n",
       "135808   uz  \n",
       "135809   uz  \n",
       "135810   uz  \n",
       "\n",
       "[90333 rows x 4 columns]"
      ]
     },
     "execution_count": 112,
     "metadata": {},
     "output_type": "execute_result"
    }
   ],
   "source": [
    "df[['audio_filepath',  'duration', 'text', 'lang']]"
   ]
  },
  {
   "cell_type": "code",
   "execution_count": 113,
   "id": "f3d426a9",
   "metadata": {},
   "outputs": [
    {
     "data": {
      "text/plain": [
       "duration\n",
       "3.080000    22957\n",
       "2.060000    16809\n",
       "4.100000    14407\n",
       "5.140000     8641\n",
       "6.160000     4837\n",
       "            ...  \n",
       "1.110023        1\n",
       "7.510023        1\n",
       "9.820000        1\n",
       "9.430023        1\n",
       "4.780000        1\n",
       "Name: count, Length: 773, dtype: int64"
      ]
     },
     "execution_count": 113,
     "metadata": {},
     "output_type": "execute_result"
    }
   ],
   "source": [
    "df[\"duration\"].value_counts()"
   ]
  },
  {
   "cell_type": "code",
   "execution_count": 114,
   "id": "09f4a980",
   "metadata": {},
   "outputs": [
    {
     "name": "stderr",
     "output_type": "stream",
     "text": [
      "<ipython-input-114-e104c61f3635>:1: SettingWithCopyWarning: \n",
      "A value is trying to be set on a copy of a slice from a DataFrame.\n",
      "Try using .loc[row_indexer,col_indexer] = value instead\n",
      "\n",
      "See the caveats in the documentation: https://pandas.pydata.org/pandas-docs/stable/user_guide/indexing.html#returning-a-view-versus-a-copy\n",
      "  df[\"length_duration\"] = df[\"length\"]/df[\"duration\"]\n"
     ]
    }
   ],
   "source": [
    "df[\"length_duration\"] = df[\"length\"]/df[\"duration\"]"
   ]
  },
  {
   "cell_type": "code",
   "execution_count": 115,
   "id": "f864ca22",
   "metadata": {},
   "outputs": [
    {
     "data": {
      "text/plain": [
       "length_duration\n",
       "0.974026    8027\n",
       "1.456311    6109\n",
       "0.649351    6043\n",
       "0.970874    5671\n",
       "0.485437    4557\n",
       "            ... \n",
       "0.730994       1\n",
       "1.607348       1\n",
       "1.383236       1\n",
       "1.089918       1\n",
       "2.191558       1\n",
       "Name: count, Length: 2451, dtype: int64"
      ]
     },
     "execution_count": 115,
     "metadata": {},
     "output_type": "execute_result"
    }
   ],
   "source": [
    "df[\"length_duration\"].value_counts()"
   ]
  },
  {
   "cell_type": "code",
   "execution_count": 118,
   "id": "ba0200eb",
   "metadata": {},
   "outputs": [
    {
     "data": {
      "text/plain": [
       "<AxesSubplot:>"
      ]
     },
     "execution_count": 118,
     "metadata": {},
     "output_type": "execute_result"
    },
    {
     "data": {
      "image/png": "[encoded data removed]",
      "text/plain": [
       "<Figure size 432x288 with 1 Axes>"
      ]
     },
     "metadata": {
      "needs_background": "light"
     },
     "output_type": "display_data"
    }
   ],
   "source": [
    "df['length_duration'].hist(bins=50)"
   ]
  },
  {
   "cell_type": "code",
   "execution_count": 122,
   "id": "df9eb23f",
   "metadata": {},
   "outputs": [
    {
     "data": {
      "text/html": [
       "<div>\n",
       "<style scoped>\n",
       "    .dataframe tbody tr th:only-of-type {\n",
       "        vertical-align: middle;\n",
       "    }\n",
       "\n",
       "    .dataframe tbody tr th {\n",
       "        vertical-align: top;\n",
       "    }\n",
       "\n",
       "    .dataframe thead th {\n",
       "        text-align: right;\n",
       "    }\n",
       "</style>\n",
       "<table border=\"1\" class=\"dataframe\">\n",
       "  <thead>\n",
       "    <tr style=\"text-align: right;\">\n",
       "      <th></th>\n",
       "      <th>audio_filepath</th>\n",
       "      <th>duration</th>\n",
       "      <th>text</th>\n",
       "      <th>lang</th>\n",
       "    </tr>\n",
       "  </thead>\n",
       "  <tbody>\n",
       "    <tr>\n",
       "      <th>435</th>\n",
       "      <td>audio23_9332341_1697796344_997760274_1697796434-in.wav</td>\n",
       "      <td>7.180000</td>\n",
       "      <td>ha to'layman</td>\n",
       "      <td>uz</td>\n",
       "    </tr>\n",
       "    <tr>\n",
       "      <th>1025</th>\n",
       "      <td>audio23_9334577_1697967210_935627434_1697967256-in.wav</td>\n",
       "      <td>10.820000</td>\n",
       "      <td>bo'ladi bo'ladi</td>\n",
       "      <td>uz</td>\n",
       "    </tr>\n",
       "    <tr>\n",
       "      <th>1043</th>\n",
       "      <td>audio34_9313372_1697626561_913806999_1697626620-in.wav</td>\n",
       "      <td>7.180000</td>\n",
       "      <td>shunday</td>\n",
       "      <td>uz</td>\n",
       "    </tr>\n",
       "    <tr>\n",
       "      <th>1896</th>\n",
       "      <td>audio0_9393881_1698574794_919024141_1698574824-in.wav</td>\n",
       "      <td>7.180000</td>\n",
       "      <td>allo allo</td>\n",
       "      <td>uz</td>\n",
       "    </tr>\n",
       "    <tr>\n",
       "      <th>2077</th>\n",
       "      <td>audio3_9393248_1698485478_901114677_1698485507-in.wav</td>\n",
       "      <td>8.200000</td>\n",
       "      <td>men eshitaman</td>\n",
       "      <td>uz</td>\n",
       "    </tr>\n",
       "    <tr>\n",
       "      <th>...</th>\n",
       "      <td>...</td>\n",
       "      <td>...</td>\n",
       "      <td>...</td>\n",
       "      <td>...</td>\n",
       "    </tr>\n",
       "    <tr>\n",
       "      <th>133980</th>\n",
       "      <td>audio3_9821799_1702472468_942850545_1702472490-in.wav</td>\n",
       "      <td>8.200000</td>\n",
       "      <td>nima deysiz</td>\n",
       "      <td>uz</td>\n",
       "    </tr>\n",
       "    <tr>\n",
       "      <th>134382</th>\n",
       "      <td>audio3_9745996_1701960172_935260696_1701960237-in.wav</td>\n",
       "      <td>11.290023</td>\n",
       "      <td>allo allo</td>\n",
       "      <td>uz</td>\n",
       "    </tr>\n",
       "    <tr>\n",
       "      <th>134671</th>\n",
       "      <td>audio0_9744579_1701957582_996663078_1701957617-in.wav</td>\n",
       "      <td>8.200000</td>\n",
       "      <td>allo eshitaman</td>\n",
       "      <td>uz</td>\n",
       "    </tr>\n",
       "    <tr>\n",
       "      <th>134694</th>\n",
       "      <td>audio3_9786939_1702294214_979300034_1702294243-in.wav</td>\n",
       "      <td>9.190023</td>\n",
       "      <td>topshiramiz topshiramiz</td>\n",
       "      <td>uz</td>\n",
       "    </tr>\n",
       "    <tr>\n",
       "      <th>135296</th>\n",
       "      <td>audio39_9821312_1702470687_993723342_1702470744-in.wav</td>\n",
       "      <td>9.220000</td>\n",
       "      <td>yo'q</td>\n",
       "      <td>uz</td>\n",
       "    </tr>\n",
       "  </tbody>\n",
       "</table>\n",
       "<p>329 rows × 4 columns</p>\n",
       "</div>"
      ],
      "text/plain": [
       "                                                audio_filepath   duration   \n",
       "435     audio23_9332341_1697796344_997760274_1697796434-in.wav   7.180000  \\\n",
       "1025    audio23_9334577_1697967210_935627434_1697967256-in.wav  10.820000   \n",
       "1043    audio34_9313372_1697626561_913806999_1697626620-in.wav   7.180000   \n",
       "1896     audio0_9393881_1698574794_919024141_1698574824-in.wav   7.180000   \n",
       "2077     audio3_9393248_1698485478_901114677_1698485507-in.wav   8.200000   \n",
       "...                                                        ...        ...   \n",
       "133980   audio3_9821799_1702472468_942850545_1702472490-in.wav   8.200000   \n",
       "134382   audio3_9745996_1701960172_935260696_1701960237-in.wav  11.290023   \n",
       "134671   audio0_9744579_1701957582_996663078_1701957617-in.wav   8.200000   \n",
       "134694   audio3_9786939_1702294214_979300034_1702294243-in.wav   9.190023   \n",
       "135296  audio39_9821312_1702470687_993723342_1702470744-in.wav   9.220000   \n",
       "\n",
       "                           text lang  \n",
       "435                ha to'layman   uz  \n",
       "1025            bo'ladi bo'ladi   uz  \n",
       "1043                    shunday   uz  \n",
       "1896                  allo allo   uz  \n",
       "2077              men eshitaman   uz  \n",
       "...                         ...  ...  \n",
       "133980              nima deysiz   uz  \n",
       "134382                allo allo   uz  \n",
       "134671           allo eshitaman   uz  \n",
       "134694  topshiramiz topshiramiz   uz  \n",
       "135296                     yo'q   uz  \n",
       "\n",
       "[329 rows x 4 columns]"
      ]
     },
     "execution_count": 122,
     "metadata": {},
     "output_type": "execute_result"
    }
   ],
   "source": [
    "df[(df['length_duration'] < 0.3) & (df['duration'] > 7) & (df[\"length\"] < 3)][['audio_filepath',  'duration', 'text', 'lang']]"
   ]
  },
  {
   "cell_type": "code",
   "execution_count": 131,
   "id": "753fe3ee",
   "metadata": {},
   "outputs": [
    {
     "data": {
      "text/plain": [
       "text\n",
       "eshitaman              7\n",
       "allo eshitaman         5\n",
       "yo'q                   4\n",
       "tushundim              3\n",
       "da allo                3\n",
       "da eshitaman           3\n",
       "ha ha                  3\n",
       "ertaga                 3\n",
       "a allo                 3\n",
       "to'layman to'layman    3\n",
       "assalomu alaykum       3\n",
       "bo'ladi bo'ladi        3\n",
       "bugun                  3\n",
       "ertaga ertaga          3\n",
       "tushunmadim            2\n",
       "hov eshitaman          2\n",
       "yaxshi                 2\n",
       "hozir hozir            2\n",
       "eshitaman allo         2\n",
       "hop mayli              2\n",
       "oyni oxiriga           2\n",
       "haa allo               2\n",
       "yaxshimisiz allo       2\n",
       "ha to'layman           2\n",
       "harakat qilamiz        2\n",
       "ha allo                2\n",
       "hop hop                2\n",
       "allo kim               2\n",
       "labbay allo            2\n",
       "bo'pti                 2\n",
       "Name: count, dtype: int64"
      ]
     },
     "execution_count": 131,
     "metadata": {},
     "output_type": "execute_result"
    }
   ],
   "source": [
    "df[(df['length_duration'] < 0.3) & (df['duration'] > 7) & (df[\"length\"] < 3)][\"text\"].value_counts().head(30)"
   ]
  },
  {
   "cell_type": "code",
   "execution_count": 129,
   "id": "ffdb565d",
   "metadata": {},
   "outputs": [],
   "source": [
    "ind_drop = df[(df['length_duration'] < 0.3) & (df['duration'] > 7) & (df[\"length\"] < 3) & df[\"text\"].str.contains(\"allo allo\")].index"
   ]
  },
  {
   "cell_type": "code",
   "execution_count": 130,
   "id": "5a77d17e",
   "metadata": {},
   "outputs": [
    {
     "name": "stderr",
     "output_type": "stream",
     "text": [
      "<ipython-input-130-8aeb4d3731c9>:1: SettingWithCopyWarning: \n",
      "A value is trying to be set on a copy of a slice from a DataFrame\n",
      "\n",
      "See the caveats in the documentation: https://pandas.pydata.org/pandas-docs/stable/user_guide/indexing.html#returning-a-view-versus-a-copy\n",
      "  df.drop(ind_drop, inplace=True)\n"
     ]
    }
   ],
   "source": [
    "df.drop(ind_drop, inplace=True)"
   ]
  },
  {
   "cell_type": "code",
   "execution_count": 132,
   "id": "76d78002",
   "metadata": {},
   "outputs": [
    {
     "name": "stdout",
     "output_type": "stream",
     "text": [
      "<class 'pandas.core.frame.DataFrame'>\n",
      "Index: 90216 entries, 4 to 135810\n",
      "Data columns (total 35 columns):\n",
      " #   Column                       Non-Null Count  Dtype  \n",
      "---  ------                       --------------  -----  \n",
      " 0   id                           90216 non-null  int64  \n",
      " 1   audio_filepath               90216 non-null  object \n",
      " 2   golden_status                90216 non-null  object \n",
      " 3   status                       90216 non-null  object \n",
      " 4   transcriber                  90216 non-null  object \n",
      " 5   superviser                   90216 non-null  object \n",
      " 6   golden_transcription         90216 non-null  object \n",
      " 7   text                         90216 non-null  object \n",
      " 8   theme                        90216 non-null  object \n",
      " 9   robot_transcription          90003 non-null  object \n",
      " 10  timestamp_create             90216 non-null  int64  \n",
      " 11  timestamp_change             90216 non-null  int64  \n",
      " 12  transcriber_id               90216 non-null  int64  \n",
      " 13  superviser_id                90216 non-null  int64  \n",
      " 14  score_transcriber            90216 non-null  int64  \n",
      " 15  wer                          90216 non-null  float64\n",
      " 16  pool                         90216 non-null  object \n",
      " 17  sex                          90216 non-null  object \n",
      " 18  speakers                     90216 non-null  int64  \n",
      " 19  lang                         90216 non-null  object \n",
      " 20  transcriber_type2            0 non-null      object \n",
      " 21  transcriber_id_type2         0 non-null      float64\n",
      " 22  superviser_type2             0 non-null      float64\n",
      " 23  superviser_id_type2          0 non-null      float64\n",
      " 24  tags                         0 non-null      float64\n",
      " 25  emotion                      0 non-null      float64\n",
      " 26  score_transcriber_type2      0 non-null      float64\n",
      " 27  category_error               0 non-null      float64\n",
      " 28  comments                     0 non-null      float64\n",
      " 29  timestamp_transcribed        90216 non-null  int64  \n",
      " 30  duration                     90216 non-null  float64\n",
      " 31  timestamp_transcribed_type2  90216 non-null  int64  \n",
      " 32  bad                          90216 non-null  object \n",
      " 33  length                       90216 non-null  int64  \n",
      " 34  length_duration              90216 non-null  float64\n",
      "dtypes: float64(11), int64(10), object(14)\n",
      "memory usage: 24.8+ MB\n"
     ]
    }
   ],
   "source": [
    "df.info()"
   ]
  },
  {
   "cell_type": "code",
   "execution_count": 133,
   "id": "b8bc1c17",
   "metadata": {},
   "outputs": [],
   "source": [
    "df.iloc[:,1] = df.iloc[:,1].apply(lambda x: f\"/home/user/TRANSDUCER_r1.11.0/DATA/UZ/asr_uz/{x}\")"
   ]
  },
  {
   "cell_type": "code",
   "execution_count": 134,
   "id": "2a357cd8",
   "metadata": {},
   "outputs": [],
   "source": [
    "with open('./uz_new_train_manifest.json', 'w', encoding='utf-8') as file:\n",
    "    df[['audio_filepath',  'duration', 'text', 'lang']].to_json(file, orient='records', lines=True, force_ascii=False)"
   ]
  },
  {
   "cell_type": "code",
   "execution_count": null,
   "id": "d0d37beb",
   "metadata": {},
   "outputs": [],
   "source": []
  }
 ],
 "metadata": {
  "kernelspec": {
   "display_name": "Python 3",
   "language": "python",
   "name": "python3"
  },
  "language_info": {
   "codemirror_mode": {
    "name": "ipython",
    "version": 3
   },
   "file_extension": ".py",
   "mimetype": "text/x-python",
   "name": "python",
   "nbconvert_exporter": "python",
   "pygments_lexer": "ipython3",
   "version": "3.8.8"
  }
 },
 "nbformat": 4,
 "nbformat_minor": 5
}
