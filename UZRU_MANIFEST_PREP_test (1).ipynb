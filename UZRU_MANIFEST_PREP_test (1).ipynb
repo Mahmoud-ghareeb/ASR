{
 "cells": [
  {
   "cell_type": "code",
   "execution_count": 1,
   "id": "e4e525e9",
   "metadata": {},
   "outputs": [],
   "source": [
    "import pandas as pd\n",
    "pd.set_option('display.max_colwidth', None)\n",
    "\n",
    "from tqdm import tqdm\n",
    "tqdm.pandas(desc='progress bar:')\n",
    "\n",
    "import numpy as np"
   ]
  },
  {
   "cell_type": "code",
   "execution_count": 2,
   "id": "76747195",
   "metadata": {},
   "outputs": [],
   "source": [
    "def check_text(s):\n",
    "    for symbol in s:\n",
    "        if symbol not in \"\\\" abcdefghijklmnopqrstuvwxyz'\":\n",
    "            return ('FAIL',symbol)\n",
    "    else:\n",
    "        return 'OK'"
   ]
  },
  {
   "cell_type": "code",
   "execution_count": 3,
   "id": "b9a9f2b0",
   "metadata": {},
   "outputs": [],
   "source": [
    "import Levenshtein\n",
    "def calcWer(s1, s2):\n",
    "    s1 = str(s1)\n",
    "    s2 = str(s2)\n",
    "    b = set(s1.split() + s2.split())\n",
    "    word2char = dict(zip(b, range(len(b))))\n",
    "    w1 = [chr(word2char[w]) for w in s1.split()]\n",
    "    w2 = [chr(word2char[w]) for w in s2.split()]\n",
    "    return Levenshtein.distance(''.join(w1), ''.join(w2)) / len(''.join(w2)) "
   ]
  },
  {
   "cell_type": "code",
   "execution_count": 4,
   "id": "5af2a904",
   "metadata": {},
   "outputs": [],
   "source": [
    "df = pd.read_csv(\"./uz_golden1.csv\")"
   ]
  },
  {
   "cell_type": "code",
   "execution_count": 5,
   "id": "373ae86d",
   "metadata": {},
   "outputs": [
    {
     "name": "stdout",
     "output_type": "stream",
     "text": [
      "<class 'pandas.core.frame.DataFrame'>\n",
      "RangeIndex: 7729 entries, 0 to 7728\n",
      "Data columns (total 32 columns):\n",
      " #   Column                       Non-Null Count  Dtype  \n",
      "---  ------                       --------------  -----  \n",
      " 0   id                           7729 non-null   int64  \n",
      " 1   audio                        7729 non-null   object \n",
      " 2   golden_status                7729 non-null   object \n",
      " 3   status                       7729 non-null   object \n",
      " 4   transcriber                  7729 non-null   object \n",
      " 5   superviser                   7729 non-null   object \n",
      " 6   golden_transcription         7729 non-null   object \n",
      " 7   transcriber_transcription    7729 non-null   object \n",
      " 8   theme                        7729 non-null   object \n",
      " 9   robot_transcription          7729 non-null   object \n",
      " 10  timestamp_create             7729 non-null   int64  \n",
      " 11  timestamp_change             7729 non-null   int64  \n",
      " 12  transcriber_id               7729 non-null   int64  \n",
      " 13  superviser_id                7729 non-null   int64  \n",
      " 14  score_transcriber            7729 non-null   float64\n",
      " 15  wer                          7729 non-null   int64  \n",
      " 16  pool                         7729 non-null   object \n",
      " 17  sex                          7729 non-null   object \n",
      " 18  speakers                     7729 non-null   int64  \n",
      " 19  language                     7729 non-null   object \n",
      " 20  transcriber_type2            0 non-null      float64\n",
      " 21  transcriber_id_type2         0 non-null      float64\n",
      " 22  superviser_type2             0 non-null      float64\n",
      " 23  superviser_id_type2          0 non-null      float64\n",
      " 24  tags                         0 non-null      float64\n",
      " 25  emotion                      0 non-null      float64\n",
      " 26  score_transcriber_type2      0 non-null      float64\n",
      " 27  category_error               6570 non-null   object \n",
      " 28  comments                     639 non-null    object \n",
      " 29  timestamp_transcribed        7729 non-null   int64  \n",
      " 30  duration                     7729 non-null   float64\n",
      " 31  timestamp_transcribed_type2  7729 non-null   int64  \n",
      "dtypes: float64(9), int64(9), object(14)\n",
      "memory usage: 1.9+ MB\n"
     ]
    }
   ],
   "source": [
    "df.info()"
   ]
  },
  {
   "cell_type": "code",
   "execution_count": 6,
   "id": "c5210acf",
   "metadata": {},
   "outputs": [],
   "source": [
    "df[\"bad\"] = df[\"golden_transcription\"].apply(lambda x: check_text(x))"
   ]
  },
  {
   "cell_type": "code",
   "execution_count": 7,
   "id": "1aed62e9",
   "metadata": {},
   "outputs": [],
   "source": [
    "ind_drop = df[df[\"bad\"] != \"OK\"].index"
   ]
  },
  {
   "cell_type": "code",
   "execution_count": 8,
   "id": "98e2c759",
   "metadata": {},
   "outputs": [
    {
     "data": {
      "text/plain": [
       "Index([], dtype='int64')"
      ]
     },
     "execution_count": 8,
     "metadata": {},
     "output_type": "execute_result"
    }
   ],
   "source": [
    "ind_drop"
   ]
  },
  {
   "cell_type": "code",
   "execution_count": 9,
   "id": "519b7137",
   "metadata": {},
   "outputs": [],
   "source": [
    "df[\"language\"] = df[\"language\"].str.lower()"
   ]
  },
  {
   "cell_type": "code",
   "execution_count": 10,
   "id": "8a525496",
   "metadata": {},
   "outputs": [
    {
     "data": {
      "text/plain": [
       "language\n",
       "uz        6960\n",
       "uzru       429\n",
       "uzru3      210\n",
       "ru         126\n",
       "kar          2\n",
       "uz/kar       2\n",
       "Name: count, dtype: int64"
      ]
     },
     "execution_count": 10,
     "metadata": {},
     "output_type": "execute_result"
    }
   ],
   "source": [
    "df[\"language\"].value_counts()"
   ]
  },
  {
   "cell_type": "code",
   "execution_count": 11,
   "id": "2e117312",
   "metadata": {},
   "outputs": [],
   "source": [
    "df[\"language\"] = df[\"language\"].str.replace(\"uzru\", \"uz\")"
   ]
  },
  {
   "cell_type": "code",
   "execution_count": 12,
   "id": "6ac4b515",
   "metadata": {},
   "outputs": [
    {
     "data": {
      "text/plain": [
       "language\n",
       "uz        7389\n",
       "uz3        210\n",
       "ru         126\n",
       "kar          2\n",
       "uz/kar       2\n",
       "Name: count, dtype: int64"
      ]
     },
     "execution_count": 12,
     "metadata": {},
     "output_type": "execute_result"
    }
   ],
   "source": [
    "df[\"language\"].value_counts()"
   ]
  },
  {
   "cell_type": "code",
   "execution_count": 13,
   "id": "b17286e9",
   "metadata": {},
   "outputs": [],
   "source": [
    "df[\"language\"] = df[\"language\"].str.replace(\"uz3\", \"uz\")"
   ]
  },
  {
   "cell_type": "code",
   "execution_count": 14,
   "id": "e901d944",
   "metadata": {},
   "outputs": [
    {
     "data": {
      "text/plain": [
       "language\n",
       "uz        7599\n",
       "ru         126\n",
       "kar          2\n",
       "uz/kar       2\n",
       "Name: count, dtype: int64"
      ]
     },
     "execution_count": 14,
     "metadata": {},
     "output_type": "execute_result"
    }
   ],
   "source": [
    "df[\"language\"].value_counts()"
   ]
  },
  {
   "cell_type": "code",
   "execution_count": 15,
   "id": "6a9be813",
   "metadata": {},
   "outputs": [],
   "source": [
    "df[\"language\"] = df[\"language\"].str.replace(\"uz/kar\", \"uz\")"
   ]
  },
  {
   "cell_type": "code",
   "execution_count": 16,
   "id": "5d29786a",
   "metadata": {},
   "outputs": [
    {
     "data": {
      "text/plain": [
       "language\n",
       "uz     7601\n",
       "ru      126\n",
       "kar       2\n",
       "Name: count, dtype: int64"
      ]
     },
     "execution_count": 16,
     "metadata": {},
     "output_type": "execute_result"
    }
   ],
   "source": [
    "df[\"language\"].value_counts()"
   ]
  },
  {
   "cell_type": "code",
   "execution_count": 17,
   "id": "e9ebe25a",
   "metadata": {},
   "outputs": [],
   "source": [
    "ind_drop = df[df[\"language\"] == \"kar\"].index"
   ]
  },
  {
   "cell_type": "code",
   "execution_count": 18,
   "id": "8a3784d5",
   "metadata": {},
   "outputs": [
    {
     "data": {
      "text/plain": [
       "Index([171, 5044], dtype='int64')"
      ]
     },
     "execution_count": 18,
     "metadata": {},
     "output_type": "execute_result"
    }
   ],
   "source": [
    "ind_drop"
   ]
  },
  {
   "cell_type": "code",
   "execution_count": 19,
   "id": "f5906f6f",
   "metadata": {},
   "outputs": [],
   "source": [
    "df.drop(ind_drop, inplace=True)"
   ]
  },
  {
   "cell_type": "code",
   "execution_count": 20,
   "id": "28306c5a",
   "metadata": {},
   "outputs": [
    {
     "data": {
      "text/plain": [
       "language\n",
       "uz    7601\n",
       "ru     126\n",
       "Name: count, dtype: int64"
      ]
     },
     "execution_count": 20,
     "metadata": {},
     "output_type": "execute_result"
    }
   ],
   "source": [
    "df[\"language\"].value_counts()"
   ]
  },
  {
   "cell_type": "code",
   "execution_count": 21,
   "id": "c7766ca5",
   "metadata": {},
   "outputs": [],
   "source": [
    "lang_drop = df[df[\"language\"] == \"ru\"].index"
   ]
  },
  {
   "cell_type": "code",
   "execution_count": 22,
   "id": "71634f04",
   "metadata": {},
   "outputs": [
    {
     "data": {
      "text/plain": [
       "Index([  15,   16,   23,   24,   39,   43,  116,  136,  145,  148,\n",
       "       ...\n",
       "       7289, 7322, 7326, 7335, 7391, 7399, 7466, 7518, 7665, 7726],\n",
       "      dtype='int64', length=126)"
      ]
     },
     "execution_count": 22,
     "metadata": {},
     "output_type": "execute_result"
    }
   ],
   "source": [
    "lang_drop"
   ]
  },
  {
   "cell_type": "code",
   "execution_count": 23,
   "id": "4b6c4158",
   "metadata": {},
   "outputs": [],
   "source": [
    "df.drop(lang_drop, inplace=True)"
   ]
  },
  {
   "cell_type": "code",
   "execution_count": 24,
   "id": "d5b22cef",
   "metadata": {},
   "outputs": [],
   "source": [
    "lang_drop = df[df[\"language\"] == \"ru\"].index"
   ]
  },
  {
   "cell_type": "code",
   "execution_count": 25,
   "id": "95e7ac93",
   "metadata": {},
   "outputs": [
    {
     "data": {
      "text/plain": [
       "Index([], dtype='int64')"
      ]
     },
     "execution_count": 25,
     "metadata": {},
     "output_type": "execute_result"
    }
   ],
   "source": [
    "lang_drop"
   ]
  },
  {
   "cell_type": "code",
   "execution_count": 26,
   "id": "81b67fb9",
   "metadata": {},
   "outputs": [],
   "source": [
    "df['wer'] = df[['transcriber_transcription', 'golden_transcription']].apply(lambda x:calcWer(x.transcriber_transcription, x.golden_transcription), axis=1)"
   ]
  },
  {
   "cell_type": "code",
   "execution_count": 27,
   "id": "c5d72103",
   "metadata": {},
   "outputs": [
    {
     "data": {
      "text/plain": [
       "wer\n",
       "1.000000    130\n",
       "0.666667     38\n",
       "2.000000     24\n",
       "0.750000     11\n",
       "0.600000     10\n",
       "1.500000      3\n",
       "0.571429      3\n",
       "0.800000      2\n",
       "0.625000      2\n",
       "1.333333      2\n",
       "3.000000      2\n",
       "0.545455      1\n",
       "1.666667      1\n",
       "2.333333      1\n",
       "4.500000      1\n",
       "9.000000      1\n",
       "1.166667      1\n",
       "2.500000      1\n",
       "0.583333      1\n",
       "1.200000      1\n",
       "6.500000      1\n",
       "4.000000      1\n",
       "0.642857      1\n",
       "Name: count, dtype: int64"
      ]
     },
     "execution_count": 27,
     "metadata": {},
     "output_type": "execute_result"
    }
   ],
   "source": [
    "df[df['wer'] > 0.5][\"wer\"].value_counts()"
   ]
  },
  {
   "cell_type": "code",
   "execution_count": 28,
   "id": "a97909a7",
   "metadata": {},
   "outputs": [
    {
     "data": {
      "text/html": [
       "<div>\n",
       "<style scoped>\n",
       "    .dataframe tbody tr th:only-of-type {\n",
       "        vertical-align: middle;\n",
       "    }\n",
       "\n",
       "    .dataframe tbody tr th {\n",
       "        vertical-align: top;\n",
       "    }\n",
       "\n",
       "    .dataframe thead th {\n",
       "        text-align: right;\n",
       "    }\n",
       "</style>\n",
       "<table border=\"1\" class=\"dataframe\">\n",
       "  <thead>\n",
       "    <tr style=\"text-align: right;\">\n",
       "      <th></th>\n",
       "      <th>golden_transcription</th>\n",
       "      <th>transcriber_transcription</th>\n",
       "      <th>wer</th>\n",
       "    </tr>\n",
       "  </thead>\n",
       "  <tbody>\n",
       "    <tr>\n",
       "      <th>50</th>\n",
       "      <td>plastikk krata orqali</td>\n",
       "      <td>plastik karta orqali</td>\n",
       "      <td>0.666667</td>\n",
       "    </tr>\n",
       "    <tr>\n",
       "      <th>52</th>\n",
       "      <td>haa</td>\n",
       "      <td>hop</td>\n",
       "      <td>1.000000</td>\n",
       "    </tr>\n",
       "    <tr>\n",
       "      <th>66</th>\n",
       "      <td>bo'pti hop</td>\n",
       "      <td>bo'ldi to'g'ri</td>\n",
       "      <td>1.000000</td>\n",
       "    </tr>\n",
       "    <tr>\n",
       "      <th>96</th>\n",
       "      <td>aha</td>\n",
       "      <td>mxm</td>\n",
       "      <td>1.000000</td>\n",
       "    </tr>\n",
       "    <tr>\n",
       "      <th>180</th>\n",
       "      <td>yo'q</td>\n",
       "      <td>yo'g'e</td>\n",
       "      <td>1.000000</td>\n",
       "    </tr>\n",
       "    <tr>\n",
       "      <th>...</th>\n",
       "      <td>...</td>\n",
       "      <td>...</td>\n",
       "      <td>...</td>\n",
       "    </tr>\n",
       "    <tr>\n",
       "      <th>7593</th>\n",
       "      <td>allo</td>\n",
       "      <td>ha allo</td>\n",
       "      <td>1.000000</td>\n",
       "    </tr>\n",
       "    <tr>\n",
       "      <th>7600</th>\n",
       "      <td>sababi oylik bermagani sabab</td>\n",
       "      <td>hozir oylik bermagan salom</td>\n",
       "      <td>0.750000</td>\n",
       "    </tr>\n",
       "    <tr>\n",
       "      <th>7602</th>\n",
       "      <td>ssalom</td>\n",
       "      <td>salom</td>\n",
       "      <td>1.000000</td>\n",
       "    </tr>\n",
       "    <tr>\n",
       "      <th>7662</th>\n",
       "      <td>opa ana u aaa o'ninchigacha oyligim tushadi</td>\n",
       "      <td>opa anavi o'ninchigacha oyligimiz tushadi</td>\n",
       "      <td>0.571429</td>\n",
       "    </tr>\n",
       "    <tr>\n",
       "      <th>7727</th>\n",
       "      <td>hmm</td>\n",
       "      <td>hm</td>\n",
       "      <td>1.000000</td>\n",
       "    </tr>\n",
       "  </tbody>\n",
       "</table>\n",
       "<p>239 rows × 3 columns</p>\n",
       "</div>"
      ],
      "text/plain": [
       "                             golden_transcription   \n",
       "50                          plastikk krata orqali  \\\n",
       "52                                            haa   \n",
       "66                                     bo'pti hop   \n",
       "96                                            aha   \n",
       "180                                          yo'q   \n",
       "...                                           ...   \n",
       "7593                                         allo   \n",
       "7600                 sababi oylik bermagani sabab   \n",
       "7602                                       ssalom   \n",
       "7662  opa ana u aaa o'ninchigacha oyligim tushadi   \n",
       "7727                                          hmm   \n",
       "\n",
       "                      transcriber_transcription       wer  \n",
       "50                         plastik karta orqali  0.666667  \n",
       "52                                          hop  1.000000  \n",
       "66                               bo'ldi to'g'ri  1.000000  \n",
       "96                                          mxm  1.000000  \n",
       "180                                      yo'g'e  1.000000  \n",
       "...                                         ...       ...  \n",
       "7593                                    ha allo  1.000000  \n",
       "7600                 hozir oylik bermagan salom  0.750000  \n",
       "7602                                      salom  1.000000  \n",
       "7662  opa anavi o'ninchigacha oyligimiz tushadi  0.571429  \n",
       "7727                                         hm  1.000000  \n",
       "\n",
       "[239 rows x 3 columns]"
      ]
     },
     "execution_count": 28,
     "metadata": {},
     "output_type": "execute_result"
    }
   ],
   "source": [
    "df[df['wer'] > 0.5][[\"golden_transcription\", \"transcriber_transcription\", \"wer\"]]"
   ]
  },
  {
   "cell_type": "code",
   "execution_count": 29,
   "id": "9291a380",
   "metadata": {},
   "outputs": [],
   "source": [
    "wer_drop = df[df['wer'] > 0.5].index"
   ]
  },
  {
   "cell_type": "code",
   "execution_count": 30,
   "id": "50686086",
   "metadata": {},
   "outputs": [
    {
     "data": {
      "text/plain": [
       "239"
      ]
     },
     "execution_count": 30,
     "metadata": {},
     "output_type": "execute_result"
    }
   ],
   "source": [
    "len(wer_drop)"
   ]
  },
  {
   "cell_type": "code",
   "execution_count": 31,
   "id": "38bb352b",
   "metadata": {},
   "outputs": [],
   "source": [
    "df.drop(wer_drop, inplace=True)"
   ]
  },
  {
   "cell_type": "code",
   "execution_count": 32,
   "id": "09884899",
   "metadata": {},
   "outputs": [],
   "source": [
    "audio0_drop = df[df[\"audio\"].str.contains(\"audio0\")].index"
   ]
  },
  {
   "cell_type": "code",
   "execution_count": 50,
   "id": "1157a3bb",
   "metadata": {},
   "outputs": [
    {
     "data": {
      "text/plain": [
       "golden_transcription\n",
       "assalomu alaykum                          1546\n",
       "allo assalomu alaykum                      125\n",
       "va alaykum                                  53\n",
       "assalomu alaykum va alaykum assalom         27\n",
       "eshitaman                                   27\n",
       "                                          ... \n",
       "assalomu alaykum allo assalomu alaykum       1\n",
       "ha men                                       1\n",
       "allo eshityapman eshityapman                 1\n",
       "va alaykum assalom ha                        1\n",
       "bo'ldi bo'ldi yaxshi                         1\n",
       "Name: count, Length: 171, dtype: int64"
      ]
     },
     "execution_count": 50,
     "metadata": {},
     "output_type": "execute_result"
    }
   ],
   "source": [
    "df[df[\"audio\"].str.contains(\"audio0\")][\"golden_transcription\"].value_counts()"
   ]
  },
  {
   "cell_type": "code",
   "execution_count": 35,
   "id": "66827aba",
   "metadata": {},
   "outputs": [
    {
     "data": {
      "text/plain": [
       "golden_transcription\n",
       "assalomu alaykum                          1546\n",
       "allo                                       521\n",
       "va alaykum assalom                         438\n",
       "allo assalomu alaykum                      125\n",
       "va alaykum                                  53\n",
       "                                          ... \n",
       "assalomu alaykum allo assalomu alaykum       1\n",
       "ha men                                       1\n",
       "allo eshityapman eshityapman                 1\n",
       "va alaykum assalom ha                        1\n",
       "bo'ldi bo'ldi yaxshi                         1\n",
       "Name: count, Length: 173, dtype: int64"
      ]
     },
     "execution_count": 35,
     "metadata": {},
     "output_type": "execute_result"
    }
   ],
   "source": [
    "df[df[\"audio\"].str.contains(\"audio0\")][\"golden_transcription\"].value_counts()"
   ]
  },
  {
   "cell_type": "code",
   "execution_count": 36,
   "id": "457c838a",
   "metadata": {},
   "outputs": [],
   "source": [
    "df[\"golden_transcription\"] = df[\"golden_transcription\"].str.strip()"
   ]
  },
  {
   "cell_type": "code",
   "execution_count": 37,
   "id": "3899ab85",
   "metadata": {},
   "outputs": [],
   "source": [
    "df[\"length\"] = df[\"golden_transcription\"].str.split().str.len()"
   ]
  },
  {
   "cell_type": "code",
   "execution_count": 38,
   "id": "7b887526",
   "metadata": {},
   "outputs": [
    {
     "data": {
      "text/plain": [
       "length\n",
       "2     2634\n",
       "3     1393\n",
       "1     1342\n",
       "4      642\n",
       "5      491\n",
       "6      275\n",
       "7      221\n",
       "8      152\n",
       "9       84\n",
       "10      48\n",
       "11      35\n",
       "12      17\n",
       "13       9\n",
       "14       8\n",
       "15       4\n",
       "18       2\n",
       "16       2\n",
       "19       1\n",
       "21       1\n",
       "17       1\n",
       "Name: count, dtype: int64"
      ]
     },
     "execution_count": 38,
     "metadata": {},
     "output_type": "execute_result"
    }
   ],
   "source": [
    "df[\"length\"].value_counts()"
   ]
  },
  {
   "cell_type": "code",
   "execution_count": 51,
   "id": "0108b4a9",
   "metadata": {},
   "outputs": [
    {
     "data": {
      "text/plain": [
       "golden_transcription\n",
       "ertaga           52\n",
       "aha              50\n",
       "hop              42\n",
       "yo'q             38\n",
       "tushunmadim      38\n",
       "                 ..\n",
       "opa               1\n",
       "to'landi          1\n",
       "ertadan           1\n",
       "sakkizinchida     1\n",
       "nechinchida       1\n",
       "Name: count, Length: 109, dtype: int64"
      ]
     },
     "execution_count": 51,
     "metadata": {},
     "output_type": "execute_result"
    }
   ],
   "source": [
    "df[df[\"length\"] == 1][\"golden_transcription\"].value_counts()"
   ]
  },
  {
   "cell_type": "code",
   "execution_count": 40,
   "id": "519351fb",
   "metadata": {},
   "outputs": [],
   "source": [
    "allo_ind = df[(df[\"golden_transcription\"].str.contains(\"allo\")) & (df[\"length\"] == 1)].index"
   ]
  },
  {
   "cell_type": "code",
   "execution_count": 41,
   "id": "74a46c26",
   "metadata": {},
   "outputs": [],
   "source": [
    "df.drop(allo_ind, inplace=True)"
   ]
  },
  {
   "cell_type": "code",
   "execution_count": 64,
   "id": "6924d943",
   "metadata": {
    "scrolled": true
   },
   "outputs": [
    {
     "data": {
      "text/plain": [
       "golden_transcription\n",
       "ertaga           52\n",
       "aha              50\n",
       "hop              42\n",
       "yo'q             38\n",
       "tushunmadim      38\n",
       "ha               33\n",
       "eshitaman        27\n",
       "bugun            19\n",
       "mxm              14\n",
       "albatta          14\n",
       "kim              13\n",
       "labbay           10\n",
       "nimani            9\n",
       "yaxshimisiz       8\n",
       "to'layman         8\n",
       "bo'ladi           8\n",
       "tushunarli        6\n",
       "yaxshi            6\n",
       "salom             6\n",
       "kartadan          6\n",
       "hozir             6\n",
       "eshityapsizmi     6\n",
       "to'g'ri           4\n",
       "kimsiz            4\n",
       "men               4\n",
       "Name: count, dtype: int64"
      ]
     },
     "execution_count": 64,
     "metadata": {},
     "output_type": "execute_result"
    }
   ],
   "source": [
    "df[df[\"length\"] == 1][\"golden_transcription\"].value_counts().head(25)"
   ]
  },
  {
   "cell_type": "code",
   "execution_count": 63,
   "id": "c468e39b",
   "metadata": {},
   "outputs": [
    {
     "data": {
      "text/plain": [
       "golden_transcription\n",
       "ha ha                  60\n",
       "va alaykum             53\n",
       "ha menman              29\n",
       "allo allo              28\n",
       "ha men                 25\n",
       "bo'ladi bo'ladi        19\n",
       "yo'q yo'q              16\n",
       "xudo xohlasa           16\n",
       "harakat qilamiz        15\n",
       "nima deysiz            14\n",
       "hop hop                13\n",
       "kim bu                 11\n",
       "ha to'laymiz           11\n",
       "ertaga to'layman       11\n",
       "ha to'layman           10\n",
       "qanaqa kredit          10\n",
       "ertaga ertaga           9\n",
       "allo eshitaman          9\n",
       "harakat qilaman         9\n",
       "ha eshitaman            8\n",
       "to'laymiz to'laymiz     8\n",
       "karta orqali            7\n",
       "to'layman to'layman     7\n",
       "bugun bugun             7\n",
       "qaysi bank              7\n",
       "Name: count, dtype: int64"
      ]
     },
     "execution_count": 63,
     "metadata": {},
     "output_type": "execute_result"
    }
   ],
   "source": [
    "df[df[\"length\"] == 2][\"golden_transcription\"].value_counts().head(25)"
   ]
  },
  {
   "cell_type": "code",
   "execution_count": 62,
   "id": "d3d1c85e",
   "metadata": {},
   "outputs": [
    {
     "data": {
      "text/plain": [
       "golden_transcription\n",
       "allo assalomu alaykum           127\n",
       "assalomu alaykum allo            24\n",
       "assalomu alaykum yaxshimisiz     18\n",
       "ha ha ha                         17\n",
       "assalomu alaykum eshitaman       12\n",
       "ha ha men                        10\n",
       "bugun to'lay olmayman             7\n",
       "ha men men                        7\n",
       "ha xudo xohlasa                   6\n",
       "ha karta orqali                   6\n",
       "ha ha to'laymiz                   6\n",
       "assalomu alaykum labbay           6\n",
       "ha to'layman to'layman            5\n",
       "ha ha menman                      5\n",
       "qaysi bank bu                     5\n",
       "oyning oxirigacha to'layman       4\n",
       "shu haftani oxirigacha            4\n",
       "ha assalomu alaykum               4\n",
       "ha ha to'layman                   4\n",
       "qayerdan telefon qilyapsiz        4\n",
       "ha bugun to'laymiz                4\n",
       "labbay assalomu alaykum           4\n",
       "ha menman ha                      4\n",
       "eshitaman assalomu alaykum        4\n",
       "va alaykum allo                   4\n",
       "oylik tushgandan keyin            3\n",
       "ertaga xudo xohlasa               3\n",
       "ha xuddi shunday                  3\n",
       "ha bugun to'layman                3\n",
       "yo'q ayta olmayman                3\n",
       "Name: count, dtype: int64"
      ]
     },
     "execution_count": 62,
     "metadata": {},
     "output_type": "execute_result"
    }
   ],
   "source": [
    "df[df[\"length\"] == 3][\"golden_transcription\"].value_counts().head(30)"
   ]
  },
  {
   "cell_type": "code",
   "execution_count": 47,
   "id": "23575619",
   "metadata": {},
   "outputs": [],
   "source": [
    "ind_drop = df[df[\"golden_transcription\"].str.contains(\"va alaykum assalom\") & (df[\"length\"] < 4)].index"
   ]
  },
  {
   "cell_type": "code",
   "execution_count": 48,
   "id": "83efd48d",
   "metadata": {},
   "outputs": [],
   "source": [
    "df.drop(ind_drop, inplace=True)"
   ]
  },
  {
   "cell_type": "code",
   "execution_count": 56,
   "id": "04c9039a",
   "metadata": {},
   "outputs": [],
   "source": [
    "ind_drop = df[df[\"golden_transcription\"].str.contains(\"assalomu alaykum\") & (df[\"length\"] < 3)].index"
   ]
  },
  {
   "cell_type": "code",
   "execution_count": 58,
   "id": "18374591",
   "metadata": {},
   "outputs": [
    {
     "data": {
      "text/plain": [
       "1553"
      ]
     },
     "execution_count": 58,
     "metadata": {},
     "output_type": "execute_result"
    }
   ],
   "source": [
    "len(ind_drop)"
   ]
  },
  {
   "cell_type": "code",
   "execution_count": 60,
   "id": "7d4532a1",
   "metadata": {},
   "outputs": [],
   "source": [
    "df.drop(ind_drop, inplace=True)"
   ]
  },
  {
   "cell_type": "code",
   "execution_count": 61,
   "id": "9901d02e",
   "metadata": {},
   "outputs": [
    {
     "name": "stdout",
     "output_type": "stream",
     "text": [
      "<class 'pandas.core.frame.DataFrame'>\n",
      "Index: 4577 entries, 0 to 7728\n",
      "Data columns (total 34 columns):\n",
      " #   Column                       Non-Null Count  Dtype  \n",
      "---  ------                       --------------  -----  \n",
      " 0   id                           4577 non-null   int64  \n",
      " 1   audio                        4577 non-null   object \n",
      " 2   golden_status                4577 non-null   object \n",
      " 3   status                       4577 non-null   object \n",
      " 4   transcriber                  4577 non-null   object \n",
      " 5   superviser                   4577 non-null   object \n",
      " 6   golden_transcription         4577 non-null   object \n",
      " 7   transcriber_transcription    4577 non-null   object \n",
      " 8   theme                        4577 non-null   object \n",
      " 9   robot_transcription          4577 non-null   object \n",
      " 10  timestamp_create             4577 non-null   int64  \n",
      " 11  timestamp_change             4577 non-null   int64  \n",
      " 12  transcriber_id               4577 non-null   int64  \n",
      " 13  superviser_id                4577 non-null   int64  \n",
      " 14  score_transcriber            4577 non-null   float64\n",
      " 15  wer                          4577 non-null   float64\n",
      " 16  pool                         4577 non-null   object \n",
      " 17  sex                          4577 non-null   object \n",
      " 18  speakers                     4577 non-null   int64  \n",
      " 19  language                     4577 non-null   object \n",
      " 20  transcriber_type2            0 non-null      float64\n",
      " 21  transcriber_id_type2         0 non-null      float64\n",
      " 22  superviser_type2             0 non-null      float64\n",
      " 23  superviser_id_type2          0 non-null      float64\n",
      " 24  tags                         0 non-null      float64\n",
      " 25  emotion                      0 non-null      float64\n",
      " 26  score_transcriber_type2      0 non-null      float64\n",
      " 27  category_error               3789 non-null   object \n",
      " 28  comments                     488 non-null    object \n",
      " 29  timestamp_transcribed        4577 non-null   int64  \n",
      " 30  duration                     4577 non-null   float64\n",
      " 31  timestamp_transcribed_type2  4577 non-null   int64  \n",
      " 32  bad                          4577 non-null   object \n",
      " 33  length                       4577 non-null   int64  \n",
      "dtypes: float64(10), int64(9), object(15)\n",
      "memory usage: 1.2+ MB\n"
     ]
    }
   ],
   "source": [
    "df.info()"
   ]
  },
  {
   "cell_type": "code",
   "execution_count": 65,
   "id": "6eb18702",
   "metadata": {},
   "outputs": [],
   "source": [
    "df.rename(columns={'audio': 'audio_filepath', 'golden_transcription': 'text', 'language': 'lang'}, inplace=True)"
   ]
  },
  {
   "cell_type": "code",
   "execution_count": 66,
   "id": "828bdac6",
   "metadata": {},
   "outputs": [
    {
     "data": {
      "text/plain": [
       "lang\n",
       "uz    4577\n",
       "Name: count, dtype: int64"
      ]
     },
     "execution_count": 66,
     "metadata": {},
     "output_type": "execute_result"
    }
   ],
   "source": [
    "df[\"lang\"].value_counts()"
   ]
  },
  {
   "cell_type": "code",
   "execution_count": 67,
   "id": "1c737460",
   "metadata": {},
   "outputs": [
    {
     "data": {
      "text/html": [
       "<div>\n",
       "<style scoped>\n",
       "    .dataframe tbody tr th:only-of-type {\n",
       "        vertical-align: middle;\n",
       "    }\n",
       "\n",
       "    .dataframe tbody tr th {\n",
       "        vertical-align: top;\n",
       "    }\n",
       "\n",
       "    .dataframe thead th {\n",
       "        text-align: right;\n",
       "    }\n",
       "</style>\n",
       "<table border=\"1\" class=\"dataframe\">\n",
       "  <thead>\n",
       "    <tr style=\"text-align: right;\">\n",
       "      <th></th>\n",
       "      <th>audio_filepath</th>\n",
       "      <th>duration</th>\n",
       "      <th>text</th>\n",
       "      <th>lang</th>\n",
       "    </tr>\n",
       "  </thead>\n",
       "  <tbody>\n",
       "    <tr>\n",
       "      <th>0</th>\n",
       "      <td>audio23_9313130_1697620588_972938800_1697620665-in.wav</td>\n",
       "      <td>2.06</td>\n",
       "      <td>shunday shunday</td>\n",
       "      <td>uz</td>\n",
       "    </tr>\n",
       "    <tr>\n",
       "      <th>3</th>\n",
       "      <td>audio3_9287246_1697191674_975521818_1697191697-in.wav</td>\n",
       "      <td>3.08</td>\n",
       "      <td>ha menman qaysi kompaniyadan</td>\n",
       "      <td>uz</td>\n",
       "    </tr>\n",
       "    <tr>\n",
       "      <th>4</th>\n",
       "      <td>audio3_9399403_1698662797_944217471_1698662819-in.wav</td>\n",
       "      <td>2.06</td>\n",
       "      <td>kim deysiz</td>\n",
       "      <td>uz</td>\n",
       "    </tr>\n",
       "    <tr>\n",
       "      <th>5</th>\n",
       "      <td>audio34_9306935_1697537670_911918403_1697537726-in.wav</td>\n",
       "      <td>6.16</td>\n",
       "      <td>shu click orqali</td>\n",
       "      <td>uz</td>\n",
       "    </tr>\n",
       "    <tr>\n",
       "      <th>6</th>\n",
       "      <td>audio3_9338059_1698052379_931970606_1698052401-in.wav</td>\n",
       "      <td>1.04</td>\n",
       "      <td>da ha ha</td>\n",
       "      <td>uz</td>\n",
       "    </tr>\n",
       "    <tr>\n",
       "      <th>...</th>\n",
       "      <td>...</td>\n",
       "      <td>...</td>\n",
       "      <td>...</td>\n",
       "      <td>...</td>\n",
       "    </tr>\n",
       "    <tr>\n",
       "      <th>7722</th>\n",
       "      <td>audio3_9789857_1702304779_912199292_1702304803-in.wav</td>\n",
       "      <td>4.10</td>\n",
       "      <td>plastigimga pul tushmadi</td>\n",
       "      <td>uz</td>\n",
       "    </tr>\n",
       "    <tr>\n",
       "      <th>7723</th>\n",
       "      <td>audio3_9781645_1702284156_934096045_1702284187-in.wav</td>\n",
       "      <td>4.10</td>\n",
       "      <td>bo'ldi men to'lov qilib qo'yaman ikki million</td>\n",
       "      <td>uz</td>\n",
       "    </tr>\n",
       "    <tr>\n",
       "      <th>7724</th>\n",
       "      <td>audio3_9735587_1701941794_935456766_1701941834-in.wav</td>\n",
       "      <td>4.10</td>\n",
       "      <td>hali tushmadida nimaga kartaga o'shanga</td>\n",
       "      <td>uz</td>\n",
       "    </tr>\n",
       "    <tr>\n",
       "      <th>7725</th>\n",
       "      <td>audio39_9746016_1701960238_979600609_1701960307-in.wav</td>\n",
       "      <td>3.14</td>\n",
       "      <td>qarzni bugun to'ladim men</td>\n",
       "      <td>uz</td>\n",
       "    </tr>\n",
       "    <tr>\n",
       "      <th>7728</th>\n",
       "      <td>audio3_9822683_1702475617_913903737_1702475655-in.wav</td>\n",
       "      <td>6.16</td>\n",
       "      <td>pul bo'lmay qoldi pul oylik tushmay qoldi</td>\n",
       "      <td>uz</td>\n",
       "    </tr>\n",
       "  </tbody>\n",
       "</table>\n",
       "<p>4577 rows × 4 columns</p>\n",
       "</div>"
      ],
      "text/plain": [
       "                                              audio_filepath  duration   \n",
       "0     audio23_9313130_1697620588_972938800_1697620665-in.wav      2.06  \\\n",
       "3      audio3_9287246_1697191674_975521818_1697191697-in.wav      3.08   \n",
       "4      audio3_9399403_1698662797_944217471_1698662819-in.wav      2.06   \n",
       "5     audio34_9306935_1697537670_911918403_1697537726-in.wav      6.16   \n",
       "6      audio3_9338059_1698052379_931970606_1698052401-in.wav      1.04   \n",
       "...                                                      ...       ...   \n",
       "7722   audio3_9789857_1702304779_912199292_1702304803-in.wav      4.10   \n",
       "7723   audio3_9781645_1702284156_934096045_1702284187-in.wav      4.10   \n",
       "7724   audio3_9735587_1701941794_935456766_1701941834-in.wav      4.10   \n",
       "7725  audio39_9746016_1701960238_979600609_1701960307-in.wav      3.14   \n",
       "7728   audio3_9822683_1702475617_913903737_1702475655-in.wav      6.16   \n",
       "\n",
       "                                               text lang  \n",
       "0                                   shunday shunday   uz  \n",
       "3                      ha menman qaysi kompaniyadan   uz  \n",
       "4                                        kim deysiz   uz  \n",
       "5                                  shu click orqali   uz  \n",
       "6                                          da ha ha   uz  \n",
       "...                                             ...  ...  \n",
       "7722                       plastigimga pul tushmadi   uz  \n",
       "7723  bo'ldi men to'lov qilib qo'yaman ikki million   uz  \n",
       "7724        hali tushmadida nimaga kartaga o'shanga   uz  \n",
       "7725                      qarzni bugun to'ladim men   uz  \n",
       "7728      pul bo'lmay qoldi pul oylik tushmay qoldi   uz  \n",
       "\n",
       "[4577 rows x 4 columns]"
      ]
     },
     "execution_count": 67,
     "metadata": {},
     "output_type": "execute_result"
    }
   ],
   "source": [
    "df[['audio_filepath',  'duration', 'text', 'lang']]"
   ]
  },
  {
   "cell_type": "code",
   "execution_count": 81,
   "id": "3a0994ff",
   "metadata": {},
   "outputs": [
    {
     "name": "stdout",
     "output_type": "stream",
     "text": [
      "<class 'pandas.core.frame.DataFrame'>\n",
      "Index: 4577 entries, 0 to 7728\n",
      "Data columns (total 35 columns):\n",
      " #   Column                       Non-Null Count  Dtype  \n",
      "---  ------                       --------------  -----  \n",
      " 0   id                           4577 non-null   int64  \n",
      " 1   audio_filepath               4577 non-null   object \n",
      " 2   golden_status                4577 non-null   object \n",
      " 3   status                       4577 non-null   object \n",
      " 4   transcriber                  4577 non-null   object \n",
      " 5   superviser                   4577 non-null   object \n",
      " 6   text                         4577 non-null   object \n",
      " 7   transcriber_transcription    4577 non-null   object \n",
      " 8   theme                        4577 non-null   object \n",
      " 9   robot_transcription          4577 non-null   object \n",
      " 10  timestamp_create             4577 non-null   int64  \n",
      " 11  timestamp_change             4577 non-null   int64  \n",
      " 12  transcriber_id               4577 non-null   int64  \n",
      " 13  superviser_id                4577 non-null   int64  \n",
      " 14  score_transcriber            4577 non-null   float64\n",
      " 15  wer                          4577 non-null   float64\n",
      " 16  pool                         4577 non-null   object \n",
      " 17  sex                          4577 non-null   object \n",
      " 18  speakers                     4577 non-null   int64  \n",
      " 19  lang                         4577 non-null   object \n",
      " 20  transcriber_type2            0 non-null      float64\n",
      " 21  transcriber_id_type2         0 non-null      float64\n",
      " 22  superviser_type2             0 non-null      float64\n",
      " 23  superviser_id_type2          0 non-null      float64\n",
      " 24  tags                         0 non-null      float64\n",
      " 25  emotion                      0 non-null      float64\n",
      " 26  score_transcriber_type2      0 non-null      float64\n",
      " 27  category_error               3789 non-null   object \n",
      " 28  comments                     488 non-null    object \n",
      " 29  timestamp_transcribed        4577 non-null   int64  \n",
      " 30  duration                     4577 non-null   float64\n",
      " 31  timestamp_transcribed_type2  4577 non-null   int64  \n",
      " 32  bad                          4577 non-null   object \n",
      " 33  length                       4577 non-null   int64  \n",
      " 34  length_duration              4577 non-null   float64\n",
      "dtypes: float64(11), int64(9), object(15)\n",
      "memory usage: 1.4+ MB\n"
     ]
    }
   ],
   "source": [
    "df.info()"
   ]
  },
  {
   "cell_type": "code",
   "execution_count": 82,
   "id": "55aaa709",
   "metadata": {},
   "outputs": [],
   "source": [
    "df.iloc[:,1] = df.iloc[:,1].apply(lambda x: f\"/home/user/TRANSDUCER_r1.11.0/DATA/UZ/asr_uz/{x}\")"
   ]
  },
  {
   "cell_type": "code",
   "execution_count": 83,
   "id": "40898b70",
   "metadata": {},
   "outputs": [],
   "source": [
    "with open('./uz_new_test_manifest.json', 'w', encoding='utf-8') as file:\n",
    "    df[['audio_filepath',  'duration', 'text', 'lang']].to_json(file, orient='records', lines=True, force_ascii=False)"
   ]
  },
  {
   "cell_type": "code",
   "execution_count": 68,
   "id": "00844757",
   "metadata": {},
   "outputs": [
    {
     "data": {
      "text/plain": [
       "duration\n",
       "3.080000     1353\n",
       "4.100000      819\n",
       "2.060000      784\n",
       "5.140000      499\n",
       "6.160000      200\n",
       "             ... \n",
       "4.280000        1\n",
       "12.960000       1\n",
       "6.260000        1\n",
       "6.210023        1\n",
       "7.300000        1\n",
       "Name: count, Length: 165, dtype: int64"
      ]
     },
     "execution_count": 68,
     "metadata": {},
     "output_type": "execute_result"
    }
   ],
   "source": [
    "df[\"duration\"].value_counts()"
   ]
  },
  {
   "cell_type": "code",
   "execution_count": 69,
   "id": "a0718baa",
   "metadata": {},
   "outputs": [],
   "source": [
    "df[\"length_duration\"] = df[\"length\"]/df[\"duration\"]"
   ]
  },
  {
   "cell_type": "code",
   "execution_count": 70,
   "id": "e61c414e",
   "metadata": {},
   "outputs": [
    {
     "data": {
      "text/plain": [
       "length_duration\n",
       "0.974026    407\n",
       "0.649351    396\n",
       "0.970874    357\n",
       "1.298701    251\n",
       "0.485437    237\n",
       "           ... \n",
       "0.569258      1\n",
       "0.813005      1\n",
       "0.365854      1\n",
       "0.340136      1\n",
       "1.904748      1\n",
       "Name: count, Length: 415, dtype: int64"
      ]
     },
     "execution_count": 70,
     "metadata": {},
     "output_type": "execute_result"
    }
   ],
   "source": [
    "df[\"length_duration\"].value_counts()"
   ]
  },
  {
   "cell_type": "code",
   "execution_count": 71,
   "id": "f7bf79a5",
   "metadata": {},
   "outputs": [
    {
     "data": {
      "text/plain": [
       "<AxesSubplot:>"
      ]
     },
     "execution_count": 71,
     "metadata": {},
     "output_type": "execute_result"
    },
    {
     "data": {
      "image/png": "[encoded data removed]",
      "text/plain": [
       "<Figure size 432x288 with 1 Axes>"
      ]
     },
     "metadata": {
      "needs_background": "light"
     },
     "output_type": "display_data"
    }
   ],
   "source": [
    "df['length_duration'].hist(bins=30)"
   ]
  },
  {
   "cell_type": "code",
   "execution_count": 75,
   "id": "125f1e48",
   "metadata": {},
   "outputs": [
    {
     "data": {
      "text/html": [
       "<div>\n",
       "<style scoped>\n",
       "    .dataframe tbody tr th:only-of-type {\n",
       "        vertical-align: middle;\n",
       "    }\n",
       "\n",
       "    .dataframe tbody tr th {\n",
       "        vertical-align: top;\n",
       "    }\n",
       "\n",
       "    .dataframe thead th {\n",
       "        text-align: right;\n",
       "    }\n",
       "</style>\n",
       "<table border=\"1\" class=\"dataframe\">\n",
       "  <thead>\n",
       "    <tr style=\"text-align: right;\">\n",
       "      <th></th>\n",
       "      <th>audio_filepath</th>\n",
       "      <th>duration</th>\n",
       "      <th>text</th>\n",
       "      <th>lang</th>\n",
       "    </tr>\n",
       "  </thead>\n",
       "  <tbody>\n",
       "    <tr>\n",
       "      <th>98</th>\n",
       "      <td>audio0_9393997_1698576333_919090505_1698576351-in.wav</td>\n",
       "      <td>9.22</td>\n",
       "      <td>allo allo</td>\n",
       "      <td>uz</td>\n",
       "    </tr>\n",
       "    <tr>\n",
       "      <th>124</th>\n",
       "      <td>audio3_9399485_1698663716_972429202_1698663761-in.wav</td>\n",
       "      <td>12.30</td>\n",
       "      <td>ha menman allo</td>\n",
       "      <td>uz</td>\n",
       "    </tr>\n",
       "    <tr>\n",
       "      <th>328</th>\n",
       "      <td>audio74_9333372_1697886102_997267001_1697886178-in.wav</td>\n",
       "      <td>4.10</td>\n",
       "      <td>tushunmadim</td>\n",
       "      <td>uz</td>\n",
       "    </tr>\n",
       "    <tr>\n",
       "      <th>344</th>\n",
       "      <td>audio34_9458377_1699101789_908063021_1699101858-in.wav</td>\n",
       "      <td>4.10</td>\n",
       "      <td>kartadan</td>\n",
       "      <td>uz</td>\n",
       "    </tr>\n",
       "    <tr>\n",
       "      <th>381</th>\n",
       "      <td>audio0_9525578_1699432713_883040469_1699432726-in.wav</td>\n",
       "      <td>9.22</td>\n",
       "      <td>allo allo</td>\n",
       "      <td>uz</td>\n",
       "    </tr>\n",
       "    <tr>\n",
       "      <th>...</th>\n",
       "      <td>...</td>\n",
       "      <td>...</td>\n",
       "      <td>...</td>\n",
       "      <td>...</td>\n",
       "    </tr>\n",
       "    <tr>\n",
       "      <th>7469</th>\n",
       "      <td>audio0_9721685_1701848931_973310708_1701848949-in.wav</td>\n",
       "      <td>5.14</td>\n",
       "      <td>eshitaman</td>\n",
       "      <td>uz</td>\n",
       "    </tr>\n",
       "    <tr>\n",
       "      <th>7517</th>\n",
       "      <td>audio3_9741648_1701952235_999613009_1701952289-in.wav</td>\n",
       "      <td>4.12</td>\n",
       "      <td>haa</td>\n",
       "      <td>uz</td>\n",
       "    </tr>\n",
       "    <tr>\n",
       "      <th>7532</th>\n",
       "      <td>audio3_9722735_1701860667_975669066_1701860703-in.wav</td>\n",
       "      <td>15.38</td>\n",
       "      <td>o'n beshinchida o'n besh</td>\n",
       "      <td>uz</td>\n",
       "    </tr>\n",
       "    <tr>\n",
       "      <th>7634</th>\n",
       "      <td>audio39_9746220_1701960635_973140314_1701960738-in.wav</td>\n",
       "      <td>4.14</td>\n",
       "      <td>nechinchida</td>\n",
       "      <td>uz</td>\n",
       "    </tr>\n",
       "    <tr>\n",
       "      <th>7659</th>\n",
       "      <td>audio0_9680058_1701666818_978770424_1701666834-in.wav</td>\n",
       "      <td>4.10</td>\n",
       "      <td>eshitaman</td>\n",
       "      <td>uz</td>\n",
       "    </tr>\n",
       "  </tbody>\n",
       "</table>\n",
       "<p>113 rows × 4 columns</p>\n",
       "</div>"
      ],
      "text/plain": [
       "                                              audio_filepath  duration   \n",
       "98     audio0_9393997_1698576333_919090505_1698576351-in.wav      9.22  \\\n",
       "124    audio3_9399485_1698663716_972429202_1698663761-in.wav     12.30   \n",
       "328   audio74_9333372_1697886102_997267001_1697886178-in.wav      4.10   \n",
       "344   audio34_9458377_1699101789_908063021_1699101858-in.wav      4.10   \n",
       "381    audio0_9525578_1699432713_883040469_1699432726-in.wav      9.22   \n",
       "...                                                      ...       ...   \n",
       "7469   audio0_9721685_1701848931_973310708_1701848949-in.wav      5.14   \n",
       "7517   audio3_9741648_1701952235_999613009_1701952289-in.wav      4.12   \n",
       "7532   audio3_9722735_1701860667_975669066_1701860703-in.wav     15.38   \n",
       "7634  audio39_9746220_1701960635_973140314_1701960738-in.wav      4.14   \n",
       "7659   audio0_9680058_1701666818_978770424_1701666834-in.wav      4.10   \n",
       "\n",
       "                          text lang  \n",
       "98                   allo allo   uz  \n",
       "124             ha menman allo   uz  \n",
       "328                tushunmadim   uz  \n",
       "344                   kartadan   uz  \n",
       "381                  allo allo   uz  \n",
       "...                        ...  ...  \n",
       "7469                 eshitaman   uz  \n",
       "7517                       haa   uz  \n",
       "7532  o'n beshinchida o'n besh   uz  \n",
       "7634               nechinchida   uz  \n",
       "7659                 eshitaman   uz  \n",
       "\n",
       "[113 rows x 4 columns]"
      ]
     },
     "execution_count": 75,
     "metadata": {},
     "output_type": "execute_result"
    }
   ],
   "source": [
    "df[df['length_duration'] < 0.3][['audio_filepath',  'duration', 'text', 'lang']]"
   ]
  },
  {
   "cell_type": "code",
   "execution_count": 79,
   "id": "6ae802d9",
   "metadata": {},
   "outputs": [
    {
     "data": {
      "text/html": [
       "<div>\n",
       "<style scoped>\n",
       "    .dataframe tbody tr th:only-of-type {\n",
       "        vertical-align: middle;\n",
       "    }\n",
       "\n",
       "    .dataframe tbody tr th {\n",
       "        vertical-align: top;\n",
       "    }\n",
       "\n",
       "    .dataframe thead th {\n",
       "        text-align: right;\n",
       "    }\n",
       "</style>\n",
       "<table border=\"1\" class=\"dataframe\">\n",
       "  <thead>\n",
       "    <tr style=\"text-align: right;\">\n",
       "      <th></th>\n",
       "      <th>audio_filepath</th>\n",
       "      <th>duration</th>\n",
       "      <th>text</th>\n",
       "      <th>lang</th>\n",
       "    </tr>\n",
       "  </thead>\n",
       "  <tbody>\n",
       "    <tr>\n",
       "      <th>98</th>\n",
       "      <td>audio0_9393997_1698576333_919090505_1698576351-in.wav</td>\n",
       "      <td>9.220000</td>\n",
       "      <td>allo allo</td>\n",
       "      <td>uz</td>\n",
       "    </tr>\n",
       "    <tr>\n",
       "      <th>381</th>\n",
       "      <td>audio0_9525578_1699432713_883040469_1699432726-in.wav</td>\n",
       "      <td>9.220000</td>\n",
       "      <td>allo allo</td>\n",
       "      <td>uz</td>\n",
       "    </tr>\n",
       "    <tr>\n",
       "      <th>911</th>\n",
       "      <td>audio0_9418264_1698917282_992323291_1698917316-in.wav</td>\n",
       "      <td>7.180000</td>\n",
       "      <td>allo eshityapsizmi</td>\n",
       "      <td>uz</td>\n",
       "    </tr>\n",
       "    <tr>\n",
       "      <th>1128</th>\n",
       "      <td>audio0_9369873_1698125061_914744201_1698125084-in.wav</td>\n",
       "      <td>7.180000</td>\n",
       "      <td>eshitaman allo</td>\n",
       "      <td>uz</td>\n",
       "    </tr>\n",
       "    <tr>\n",
       "      <th>1200</th>\n",
       "      <td>audio3_9369522_1698136171_973940030_1698136207-in.wav</td>\n",
       "      <td>7.180000</td>\n",
       "      <td>ertaga</td>\n",
       "      <td>uz</td>\n",
       "    </tr>\n",
       "    <tr>\n",
       "      <th>1275</th>\n",
       "      <td>audio3_9409171_1698826180_933006314_1698826208-in.wav</td>\n",
       "      <td>16.260000</td>\n",
       "      <td>bugun</td>\n",
       "      <td>uz</td>\n",
       "    </tr>\n",
       "    <tr>\n",
       "      <th>1433</th>\n",
       "      <td>audio42_9486539_1699368862_914875000_1699368973-in.wav</td>\n",
       "      <td>7.730023</td>\n",
       "      <td>to'laymiz hop</td>\n",
       "      <td>uz</td>\n",
       "    </tr>\n",
       "    <tr>\n",
       "      <th>1451</th>\n",
       "      <td>audio3_9482469_1699363582_994120187_1699363641-in.wav</td>\n",
       "      <td>6.160000</td>\n",
       "      <td>ertaga</td>\n",
       "      <td>uz</td>\n",
       "    </tr>\n",
       "    <tr>\n",
       "      <th>1474</th>\n",
       "      <td>audio39_9410368_1698823610_911473886_1698823684-in.wav</td>\n",
       "      <td>7.200000</td>\n",
       "      <td>aha to'lanadi</td>\n",
       "      <td>uz</td>\n",
       "    </tr>\n",
       "    <tr>\n",
       "      <th>1770</th>\n",
       "      <td>audio3_9468316_1699338946_975797973_1699339001-in.wav</td>\n",
       "      <td>6.160000</td>\n",
       "      <td>bugun</td>\n",
       "      <td>uz</td>\n",
       "    </tr>\n",
       "    <tr>\n",
       "      <th>1908</th>\n",
       "      <td>audio0_9473118_1699351670_942947464_1699351687-in.wav</td>\n",
       "      <td>9.240000</td>\n",
       "      <td>allo allo</td>\n",
       "      <td>uz</td>\n",
       "    </tr>\n",
       "    <tr>\n",
       "      <th>1963</th>\n",
       "      <td>audio3_9483861_1699365408_997171065_1699365458-in.wav</td>\n",
       "      <td>9.220000</td>\n",
       "      <td>qancha qarzdorlik</td>\n",
       "      <td>uz</td>\n",
       "    </tr>\n",
       "    <tr>\n",
       "      <th>2312</th>\n",
       "      <td>audio0_9426560_1698931624_975778283_1698931641-in.wav</td>\n",
       "      <td>10.260000</td>\n",
       "      <td>allo allo</td>\n",
       "      <td>uz</td>\n",
       "    </tr>\n",
       "    <tr>\n",
       "      <th>2541</th>\n",
       "      <td>audio3_9428755_1698935391_977761319_1698935467-in.wav</td>\n",
       "      <td>6.160000</td>\n",
       "      <td>qaysini</td>\n",
       "      <td>uz</td>\n",
       "    </tr>\n",
       "    <tr>\n",
       "      <th>2936</th>\n",
       "      <td>audio28_9368251_1698144135_904165262_1698144233-in.wav</td>\n",
       "      <td>6.160000</td>\n",
       "      <td>yo'q</td>\n",
       "      <td>uz</td>\n",
       "    </tr>\n",
       "    <tr>\n",
       "      <th>3100</th>\n",
       "      <td>audio0_9474150_1699354482_943878646_1699354498-in.wav</td>\n",
       "      <td>8.200000</td>\n",
       "      <td>allo allo</td>\n",
       "      <td>uz</td>\n",
       "    </tr>\n",
       "    <tr>\n",
       "      <th>3214</th>\n",
       "      <td>audio0_9485359_1699367305_905776193_1699367333-in.wav</td>\n",
       "      <td>7.180000</td>\n",
       "      <td>allo allo</td>\n",
       "      <td>uz</td>\n",
       "    </tr>\n",
       "    <tr>\n",
       "      <th>3414</th>\n",
       "      <td>audio3_9423260_1698925974_993507320_1698926033-in.wav</td>\n",
       "      <td>8.460000</td>\n",
       "      <td>oylik tushsin</td>\n",
       "      <td>uz</td>\n",
       "    </tr>\n",
       "    <tr>\n",
       "      <th>4020</th>\n",
       "      <td>audio5_9664618_1701246165_942212244_1701246231-in.wav</td>\n",
       "      <td>7.180000</td>\n",
       "      <td>to'laganman</td>\n",
       "      <td>uz</td>\n",
       "    </tr>\n",
       "    <tr>\n",
       "      <th>4351</th>\n",
       "      <td>audio0_9684634_1701677329_909075378_1701677348-in.wav</td>\n",
       "      <td>10.320000</td>\n",
       "      <td>allo allo</td>\n",
       "      <td>uz</td>\n",
       "    </tr>\n",
       "    <tr>\n",
       "      <th>4530</th>\n",
       "      <td>audio3_9684696_1701677601_905896513_1701677650-in.wav</td>\n",
       "      <td>8.200000</td>\n",
       "      <td>o'ninchi sanada</td>\n",
       "      <td>uz</td>\n",
       "    </tr>\n",
       "    <tr>\n",
       "      <th>4801</th>\n",
       "      <td>audio3_9642941_1700802178_949447324_1700802232-in.wav</td>\n",
       "      <td>6.160000</td>\n",
       "      <td>kredit</td>\n",
       "      <td>uz</td>\n",
       "    </tr>\n",
       "    <tr>\n",
       "      <th>5903</th>\n",
       "      <td>audio5_9679963_1701666670_992703089_1701666735-in.wav</td>\n",
       "      <td>6.160000</td>\n",
       "      <td>tushunarli</td>\n",
       "      <td>uz</td>\n",
       "    </tr>\n",
       "    <tr>\n",
       "      <th>6352</th>\n",
       "      <td>audio5_9662713_1701249616_999429444_1701249718-in.wav</td>\n",
       "      <td>6.160000</td>\n",
       "      <td>hop</td>\n",
       "      <td>uz</td>\n",
       "    </tr>\n",
       "    <tr>\n",
       "      <th>6767</th>\n",
       "      <td>audio0_9743011_1701954777_973832016_1701954810-in.wav</td>\n",
       "      <td>13.330023</td>\n",
       "      <td>allo allo</td>\n",
       "      <td>uz</td>\n",
       "    </tr>\n",
       "    <tr>\n",
       "      <th>6850</th>\n",
       "      <td>audio0_9821151_1702470091_935116360_1702470112-in.wav</td>\n",
       "      <td>7.180000</td>\n",
       "      <td>allo allo</td>\n",
       "      <td>uz</td>\n",
       "    </tr>\n",
       "    <tr>\n",
       "      <th>7255</th>\n",
       "      <td>audio23_9667252_1701320816_974555989_1701320870-in.wav</td>\n",
       "      <td>11.280000</td>\n",
       "      <td>bo'ladi bo'ladi</td>\n",
       "      <td>uz</td>\n",
       "    </tr>\n",
       "    <tr>\n",
       "      <th>7461</th>\n",
       "      <td>audio0_9743557_1701955740_990699695_1701955777-in.wav</td>\n",
       "      <td>12.300000</td>\n",
       "      <td>allo allo</td>\n",
       "      <td>uz</td>\n",
       "    </tr>\n",
       "  </tbody>\n",
       "</table>\n",
       "</div>"
      ],
      "text/plain": [
       "                                              audio_filepath   duration   \n",
       "98     audio0_9393997_1698576333_919090505_1698576351-in.wav   9.220000  \\\n",
       "381    audio0_9525578_1699432713_883040469_1699432726-in.wav   9.220000   \n",
       "911    audio0_9418264_1698917282_992323291_1698917316-in.wav   7.180000   \n",
       "1128   audio0_9369873_1698125061_914744201_1698125084-in.wav   7.180000   \n",
       "1200   audio3_9369522_1698136171_973940030_1698136207-in.wav   7.180000   \n",
       "1275   audio3_9409171_1698826180_933006314_1698826208-in.wav  16.260000   \n",
       "1433  audio42_9486539_1699368862_914875000_1699368973-in.wav   7.730023   \n",
       "1451   audio3_9482469_1699363582_994120187_1699363641-in.wav   6.160000   \n",
       "1474  audio39_9410368_1698823610_911473886_1698823684-in.wav   7.200000   \n",
       "1770   audio3_9468316_1699338946_975797973_1699339001-in.wav   6.160000   \n",
       "1908   audio0_9473118_1699351670_942947464_1699351687-in.wav   9.240000   \n",
       "1963   audio3_9483861_1699365408_997171065_1699365458-in.wav   9.220000   \n",
       "2312   audio0_9426560_1698931624_975778283_1698931641-in.wav  10.260000   \n",
       "2541   audio3_9428755_1698935391_977761319_1698935467-in.wav   6.160000   \n",
       "2936  audio28_9368251_1698144135_904165262_1698144233-in.wav   6.160000   \n",
       "3100   audio0_9474150_1699354482_943878646_1699354498-in.wav   8.200000   \n",
       "3214   audio0_9485359_1699367305_905776193_1699367333-in.wav   7.180000   \n",
       "3414   audio3_9423260_1698925974_993507320_1698926033-in.wav   8.460000   \n",
       "4020   audio5_9664618_1701246165_942212244_1701246231-in.wav   7.180000   \n",
       "4351   audio0_9684634_1701677329_909075378_1701677348-in.wav  10.320000   \n",
       "4530   audio3_9684696_1701677601_905896513_1701677650-in.wav   8.200000   \n",
       "4801   audio3_9642941_1700802178_949447324_1700802232-in.wav   6.160000   \n",
       "5903   audio5_9679963_1701666670_992703089_1701666735-in.wav   6.160000   \n",
       "6352   audio5_9662713_1701249616_999429444_1701249718-in.wav   6.160000   \n",
       "6767   audio0_9743011_1701954777_973832016_1701954810-in.wav  13.330023   \n",
       "6850   audio0_9821151_1702470091_935116360_1702470112-in.wav   7.180000   \n",
       "7255  audio23_9667252_1701320816_974555989_1701320870-in.wav  11.280000   \n",
       "7461   audio0_9743557_1701955740_990699695_1701955777-in.wav  12.300000   \n",
       "\n",
       "                    text lang  \n",
       "98             allo allo   uz  \n",
       "381            allo allo   uz  \n",
       "911   allo eshityapsizmi   uz  \n",
       "1128      eshitaman allo   uz  \n",
       "1200              ertaga   uz  \n",
       "1275               bugun   uz  \n",
       "1433       to'laymiz hop   uz  \n",
       "1451              ertaga   uz  \n",
       "1474       aha to'lanadi   uz  \n",
       "1770               bugun   uz  \n",
       "1908           allo allo   uz  \n",
       "1963   qancha qarzdorlik   uz  \n",
       "2312           allo allo   uz  \n",
       "2541             qaysini   uz  \n",
       "2936                yo'q   uz  \n",
       "3100           allo allo   uz  \n",
       "3214           allo allo   uz  \n",
       "3414       oylik tushsin   uz  \n",
       "4020         to'laganman   uz  \n",
       "4351           allo allo   uz  \n",
       "4530     o'ninchi sanada   uz  \n",
       "4801              kredit   uz  \n",
       "5903          tushunarli   uz  \n",
       "6352                 hop   uz  \n",
       "6767           allo allo   uz  \n",
       "6850           allo allo   uz  \n",
       "7255     bo'ladi bo'ladi   uz  \n",
       "7461           allo allo   uz  "
      ]
     },
     "execution_count": 79,
     "metadata": {},
     "output_type": "execute_result"
    }
   ],
   "source": [
    "df[(df['length_duration'] < 0.3) & (df['duration'] > 6) & (df[\"length\"] < 3)][['audio_filepath',  'duration', 'text', 'lang']]"
   ]
  },
  {
   "cell_type": "code",
   "execution_count": null,
   "id": "bee03fd3",
   "metadata": {},
   "outputs": [],
   "source": []
  }
 ],
 "metadata": {
  "kernelspec": {
   "display_name": "Python 3",
   "language": "python",
   "name": "python3"
  },
  "language_info": {
   "codemirror_mode": {
    "name": "ipython",
    "version": 3
   },
   "file_extension": ".py",
   "mimetype": "text/x-python",
   "name": "python",
   "nbconvert_exporter": "python",
   "pygments_lexer": "ipython3",
   "version": "3.8.8"
  }
 },
 "nbformat": 4,
 "nbformat_minor": 5
}
